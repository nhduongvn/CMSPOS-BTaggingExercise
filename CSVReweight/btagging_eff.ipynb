{
 "cells": [
  {
   "cell_type": "code",
   "execution_count": null,
   "metadata": {},
   "outputs": [],
   "source": [
    "import ROOT\n",
    "import array"
   ]
  },
  {
   "cell_type": "markdown",
   "metadata": {},
   "source": [
    "Addapted from https://twiki.cern.ch/twiki/bin/view/CMS/BTagCalibration#Code_example_in_Python\n",
    "\n",
    "Standalone usage of BTagCalibration tool."
   ]
  },
  {
   "cell_type": "code",
   "execution_count": null,
   "metadata": {},
   "outputs": [],
   "source": [
    "ROOT.gROOT.ProcessLine('.L BTagCalibrationStandalone.cpp+')"
   ]
  },
  {
   "cell_type": "markdown",
   "metadata": {},
   "source": [
    "Inside CMSSW, you can use\n",
    "`````\n",
    "ROOT.gSystem.Load('libCondFormatsBTauObjects')\n",
    "ROOT.gSystem.Load('libCondToolsBTau')\n",
    "`````"
   ]
  },
  {
   "cell_type": "code",
   "execution_count": null,
   "metadata": {},
   "outputs": [],
   "source": [
    "#initiate the BTagCalibration\n",
    "calib = ROOT.BTagCalibration('DeepFlavour', 'DeepJet_102XSF_WP_V1.csv')\n",
    "# making a std::vector<std::string>> in python is a bit awkward, \n",
    "# but works with root (needed to load other sys types):\n",
    "v_sys = getattr(ROOT, 'vector<string>')()\n",
    "v_sys.push_back('up')\n",
    "v_sys.push_back('down')"
   ]
  },
  {
   "cell_type": "code",
   "execution_count": null,
   "metadata": {},
   "outputs": [],
   "source": [
    "# make a reader instance and load the sf data\n",
    "readerM = ROOT.BTagCalibrationReader(\n",
    "    1,              # 0 is for loose op, 1: medium, 2: tight, 3: discr. reshaping\n",
    "    \"central\",      # central systematic type\n",
    "    v_sys,          # vector of other sys. types\n",
    ")    \n",
    "readerM.load(\n",
    "    calib, \n",
    "    0,          # 0 is for b flavour, 1: FLAV_C, 2: FLAV_UDSG \n",
    "    \"comb\"      # measurement type\n",
    ")\n",
    "readerM.load(\n",
    "    calib, \n",
    "    1,          # 0 is for b flavour, 1: FLAV_C, 2: FLAV_UDSG \n",
    "    \"comb\"      # measurement type\n",
    ")\n",
    "readerM.load(\n",
    "    calib, \n",
    "    2,          # 0 is for b flavour, 1: FLAV_C, 2: FLAV_UDSG \n",
    "    \"incl\"      # measurement type\n",
    ")\n",
    "\n",
    "#test\n",
    "print(readerM.eval_auto_bounds('central', 0, 1.5, 50.))"
   ]
  },
  {
   "cell_type": "markdown",
   "metadata": {},
   "source": [
    "Now define the working points for DeepFlavor\n",
    "https://twiki.cern.ch/twiki/bin/viewauth/CMS/BtagRecommendation102X"
   ]
  },
  {
   "cell_type": "code",
   "execution_count": null,
   "metadata": {},
   "outputs": [],
   "source": [
    "deepFlavourBs = {'l':0.0494,'m':0.2770,'t':0.7264}"
   ]
  },
  {
   "cell_type": "markdown",
   "metadata": {},
   "source": [
    "Open NanoAOD root file. The list of branches is here\n",
    "https://cms-nanoaod-integration.web.cern.ch/integration/master-102X/mc102X_doc.html"
   ]
  },
  {
   "cell_type": "code",
   "execution_count": null,
   "metadata": {},
   "outputs": [],
   "source": [
    "fIn = ROOT.TFile.Open('root://cmseos.fnal.gov//store/user/cmsdas/2020/short_exercises/Btagging/Samples/DYJetsToLL_M-50_TuneCP5_13TeV-amcatnloFXFX-pythia8_RunIIAutumn18NanoAODv6/6D300563-862D-5D49-BBF2-2F29839188C1.root','READ')\n",
    "\n",
    "fOut = ROOT.TFile.Open('btagging_eff.root','RECREATE')\n",
    "\n",
    "tr = fIn.Get('Events')\n",
    "\n",
    "nEntries = tr.GetEntries()\n",
    "nEntries = 100000"
   ]
  },
  {
   "cell_type": "code",
   "execution_count": null,
   "metadata": {},
   "outputs": [],
   "source": [
    "# Define histogram\n",
    "xBins = [30, 40, 50, 60, 80, 110, 140, 200, 300, 600, 1000]\n",
    "h_bJet_pts = []\n",
    "h_bJet_pts.append(ROOT.TH1D('bJet_pt_de','',len(xBins)-1,array.array('f',xBins)))\n",
    "h_bJet_pts.append(ROOT.TH1D('bJet_pt_nu','',len(xBins)-1,array.array('f',xBins)))\n",
    "h_bJet_pts.append(ROOT.TH1D('bJet_pt_nu_weight','',len(xBins)-1,array.array('f',xBins)))\n",
    "\n",
    "for h in h_bJet_pts: h.Sumw2()\n"
   ]
  },
  {
   "cell_type": "code",
   "execution_count": null,
   "metadata": {},
   "outputs": [],
   "source": [
    "#loop over events\n",
    "for iEvt in range(nEntries):\n",
    "  if iEvt/10000 == iEvt/10000.: print 'Processing ', iEvt, ' in total ', nEntries, ', ', 100.*iEvt/nEntries, '%'\n",
    "\n",
    "  tr.GetEntry(iEvt)\n",
    "  \n",
    "  #loop over jets\n",
    "  for iJ in range(tr.nJet):\n",
    "    \n",
    "    if abs(tr.Jet_eta[iJ]) > 2.4 or tr.Jet_pt[iJ] < 30: continue\n",
    "    \n",
    "    if tr.Jet_hadronFlavour[iJ] == 5:\n",
    "      h_bJet_pts[0].Fill(tr.Jet_pt[iJ])\n",
    "      \n",
    "      if tr.Jet_btagDeepFlavB[iJ] > deepFlavourBs['m']:\n",
    "        h_bJet_pts[1].Fill(tr.Jet_pt[iJ])\n",
    "        \n",
    "        #get the weight\n",
    "        sfb_Ms = []\n",
    "        sfb_Ms.append(readerM.eval_auto_bounds('central', 0, abs(tr.Jet_eta[iJ]), tr.Jet_pt[iJ]))\n",
    "        sfb_Ms.append(readerM.eval_auto_bounds('up', 0, abs(tr.Jet_eta[iJ]), tr.Jet_pt[iJ]))\n",
    "        sfb_Ms.append(readerM.eval_auto_bounds('down', 0, abs(tr.Jet_eta[iJ]), tr.Jet_pt[iJ]))\n",
    "        \n",
    "        #fill bjet pt with weight\n",
    "        h_bJet_pts[2].Fill(tr.Jet_pt[iJ],sfb_Ms[0])\n",
    "\n",
    "fOut.cd()\n",
    "for h in h_bJet_pts: h.Write()\n",
    "\n",
    "fOut.Close()\n"
   ]
  },
  {
   "cell_type": "code",
   "execution_count": null,
   "metadata": {},
   "outputs": [],
   "source": []
  }
 ],
 "metadata": {
  "kernelspec": {
   "display_name": "Python 2",
   "language": "python",
   "name": "python2"
  },
  "language_info": {
   "codemirror_mode": {
    "name": "ipython",
    "version": 2
   },
   "file_extension": ".py",
   "mimetype": "text/x-python",
   "name": "python",
   "nbconvert_exporter": "python",
   "pygments_lexer": "ipython2",
   "version": "2.7.15+"
  }
 },
 "nbformat": 4,
 "nbformat_minor": 2
}
