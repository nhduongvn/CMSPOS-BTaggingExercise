{
 "cells": [
  {
   "cell_type": "markdown",
   "metadata": {},
   "source": [
    "# Exercise 4\n",
    "\n",
    "\n",
    "## Part I - creating a useful data format\n",
    "\n",
    "Like in the previous exercise you will start creating a `pandas.DataFrame` with the necessary information"
   ]
  },
  {
   "cell_type": "code",
   "execution_count": 1,
   "metadata": {
    "collapsed": false
   },
   "outputs": [
    {
     "name": "stdout",
     "output_type": "stream",
     "text": [
      "Welcome to JupyROOT 6.10/09\n"
     ]
    }
   ],
   "source": [
    "import ROOT\n",
    "import rootpy #hands down, a better version of PyROOT\n",
    "import rootpy.plotting as plt\n",
    "import pprint\n",
    "from DataFormats.FWLite import Events, Handle\n",
    "import pandas as pd\n",
    "import numpy as np\n",
    "ROOT.gStyle.SetOptStat(0)\n",
    "ROOT.gStyle.SetOptTitle(0)"
   ]
  },
  {
   "cell_type": "markdown",
   "metadata": {},
   "source": [
    "We will need to import sevral libraries, including scikit-lean, one of the machine learning python libraries and matplotlib, one of python's plotting libraries."
   ]
  },
  {
   "cell_type": "code",
   "execution_count": 2,
   "metadata": {
    "collapsed": true
   },
   "outputs": [],
   "source": [
    "%matplotlib inline\n",
    "\n",
    "import matplotlib as mpl\n",
    "import matplotlib.pyplot as pyplt\n",
    "from sklearn.metrics import roc_curve, auc\n",
    "from sklearn.model_selection import train_test_split\n",
    "from sklearn.ensemble import GradientBoostingClassifier\n",
    "from sklearn.multiclass import OneVsRestClassifier\n",
    "import sklearn"
   ]
  },
  {
   "cell_type": "markdown",
   "metadata": {},
   "source": [
    "As in the previous exercise we will have to read the input `MINIAOD` files and convert the information we want into a `pandas.DataFrame`"
   ]
  },
  {
   "cell_type": "code",
   "execution_count": 4,
   "metadata": {
    "collapsed": true
   },
   "outputs": [],
   "source": [
    "data = []\n",
    "files = [\n",
    "    #QCD\n",
    "    '/store/user/cmsdas/2019/short_exercises/Btagging/Samples/RelValQCD_FlatPt_15_3000HS_13_9_4_10/B66CB31E-1BD3-E811-A1A9-0025905B8586.root',\n",
    "    #'/store/relval/CMSSW_9_2_2/RelValQCD_FlatPt_15_3000HS_13/MINIAODSIM/PU25ns_92X_upgrade2017_realistic_v1-v1/10000/30858183-C84D-E711-AB11-0CC47A7C3434.root',\n",
    "    #TTbar\n",
    "    '/store/user/cmsdas/2019/short_exercises/Btagging/Samples/RelValTTbar_13_9_4_10/BE7D54BF-01D3-E811-80BF-0CC47A7C3604.root',\n",
    "    #'/store/relval/CMSSW_9_2_2/RelValTTbar_13/MINIAODSIM/PU25ns_92X_upgrade2017_realistic_v1-v1/10000/44D6F368-294E-E711-958E-0025905A612C.root',\n",
    "]\n",
    "events = Events(['root://cmseos.fnal.gov/%s' % i for i in files])\n",
    "handle = Handle('vector<pat::Jet>')\n",
    "taggers = [\n",
    "    ('JP', 'pfJetProbabilityBJetTags'),\n",
    "    ('JPB', 'pfJetBProbabilityBJetTags'),\n",
    "    ('SoftMu', 'softPFMuonBJetTags'),\n",
    "    ('SoftEl', 'softPFElectronBJetTags'),\n",
    "    ('CSV_IVF', 'pfCombinedInclusiveSecondaryVertexV2BJetTags'),\n",
    "    ('CSV_AVR', 'pfCombinedSecondaryVertexV2BJetTags'),\n",
    "    ('CvsL', 'pfCombinedCvsLJetTags'),\n",
    "    ('CvsB', 'pfCombinedCvsBJetTags'),\n",
    "    ('cMVA', 'pfCombinedMVAV2BJetTags'), #FOR REFERENCE ONLY\n",
    "]\n",
    "for event in events:\n",
    "    event.getByLabel('slimmedJets', handle)\n",
    "    jets = handle.product()\n",
    "    for jet in jets:\n",
    "        if jet.pt() < 20 or abs(jet.eta()) > 2.4: continue #basic selection\n",
    "        #A more verbose, but more consistent version with dictionaries exists\n",
    "        entry = [\n",
    "            jet.pt(),\n",
    "            jet.eta(),\n",
    "            abs(jet.hadronFlavour()), #5 - b-jet, 4 - c-jet, 0 - light\n",
    "        ]\n",
    "        entry.extend([jet.bDiscriminator(i) for _, i in taggers]) #_: ignore first element in each taggers tuples, for example ('JP', 'pfJetProbabilityBJetTags') 'JP' is ignored\n",
    "        data.append(entry)"
   ]
  },
  {
   "cell_type": "markdown",
   "metadata": {},
   "source": [
    "Let's convert the data and look at it."
   ]
  },
  {
   "cell_type": "code",
   "execution_count": 5,
   "metadata": {
    "collapsed": false
   },
   "outputs": [
    {
     "data": {
      "text/html": [
       "<div>\n",
       "<style>\n",
       "    .dataframe thead tr:only-child th {\n",
       "        text-align: right;\n",
       "    }\n",
       "\n",
       "    .dataframe thead th {\n",
       "        text-align: left;\n",
       "    }\n",
       "\n",
       "    .dataframe tbody tr th {\n",
       "        vertical-align: top;\n",
       "    }\n",
       "</style>\n",
       "<table border=\"1\" class=\"dataframe\">\n",
       "  <thead>\n",
       "    <tr style=\"text-align: right;\">\n",
       "      <th></th>\n",
       "      <th>pt</th>\n",
       "      <th>eta</th>\n",
       "      <th>flavour</th>\n",
       "      <th>JP</th>\n",
       "      <th>JPB</th>\n",
       "      <th>SoftMu</th>\n",
       "      <th>SoftEl</th>\n",
       "      <th>CSV_IVF</th>\n",
       "      <th>CSV_AVR</th>\n",
       "      <th>CvsL</th>\n",
       "      <th>CvsB</th>\n",
       "      <th>cMVA</th>\n",
       "    </tr>\n",
       "  </thead>\n",
       "  <tbody>\n",
       "    <tr>\n",
       "      <th>0</th>\n",
       "      <td>37.370075</td>\n",
       "      <td>1.212207</td>\n",
       "      <td>0</td>\n",
       "      <td>0.256691</td>\n",
       "      <td>0.851892</td>\n",
       "      <td>-inf</td>\n",
       "      <td>-inf</td>\n",
       "      <td>0.402917</td>\n",
       "      <td>0.204543</td>\n",
       "      <td>-0.170928</td>\n",
       "      <td>0.307223</td>\n",
       "      <td>-0.817209</td>\n",
       "    </tr>\n",
       "    <tr>\n",
       "      <th>1</th>\n",
       "      <td>24.885422</td>\n",
       "      <td>0.527317</td>\n",
       "      <td>0</td>\n",
       "      <td>0.575257</td>\n",
       "      <td>2.261385</td>\n",
       "      <td>-inf</td>\n",
       "      <td>-inf</td>\n",
       "      <td>0.571494</td>\n",
       "      <td>0.571494</td>\n",
       "      <td>-0.073073</td>\n",
       "      <td>0.164668</td>\n",
       "      <td>-0.225201</td>\n",
       "    </tr>\n",
       "    <tr>\n",
       "      <th>2</th>\n",
       "      <td>172.527573</td>\n",
       "      <td>-1.216940</td>\n",
       "      <td>0</td>\n",
       "      <td>0.115215</td>\n",
       "      <td>1.135631</td>\n",
       "      <td>-inf</td>\n",
       "      <td>-inf</td>\n",
       "      <td>0.186590</td>\n",
       "      <td>0.118074</td>\n",
       "      <td>-0.127876</td>\n",
       "      <td>0.555111</td>\n",
       "      <td>-0.890519</td>\n",
       "    </tr>\n",
       "    <tr>\n",
       "      <th>3</th>\n",
       "      <td>171.097427</td>\n",
       "      <td>0.180090</td>\n",
       "      <td>0</td>\n",
       "      <td>0.093513</td>\n",
       "      <td>0.700514</td>\n",
       "      <td>-inf</td>\n",
       "      <td>-inf</td>\n",
       "      <td>0.065657</td>\n",
       "      <td>0.065657</td>\n",
       "      <td>-0.464250</td>\n",
       "      <td>0.639907</td>\n",
       "      <td>-0.972680</td>\n",
       "    </tr>\n",
       "    <tr>\n",
       "      <th>4</th>\n",
       "      <td>48.655796</td>\n",
       "      <td>-0.176831</td>\n",
       "      <td>0</td>\n",
       "      <td>0.011641</td>\n",
       "      <td>0.071470</td>\n",
       "      <td>-inf</td>\n",
       "      <td>-inf</td>\n",
       "      <td>0.068691</td>\n",
       "      <td>0.068691</td>\n",
       "      <td>-0.388764</td>\n",
       "      <td>0.521727</td>\n",
       "      <td>-0.985260</td>\n",
       "    </tr>\n",
       "  </tbody>\n",
       "</table>\n",
       "</div>"
      ],
      "text/plain": [
       "           pt       eta  flavour        JP       JPB  SoftMu  SoftEl  \\\n",
       "0   37.370075  1.212207        0  0.256691  0.851892    -inf    -inf   \n",
       "1   24.885422  0.527317        0  0.575257  2.261385    -inf    -inf   \n",
       "2  172.527573 -1.216940        0  0.115215  1.135631    -inf    -inf   \n",
       "3  171.097427  0.180090        0  0.093513  0.700514    -inf    -inf   \n",
       "4   48.655796 -0.176831        0  0.011641  0.071470    -inf    -inf   \n",
       "\n",
       "    CSV_IVF   CSV_AVR      CvsL      CvsB      cMVA  \n",
       "0  0.402917  0.204543 -0.170928  0.307223 -0.817209  \n",
       "1  0.571494  0.571494 -0.073073  0.164668 -0.225201  \n",
       "2  0.186590  0.118074 -0.127876  0.555111 -0.890519  \n",
       "3  0.065657  0.065657 -0.464250  0.639907 -0.972680  \n",
       "4  0.068691  0.068691 -0.388764  0.521727 -0.985260  "
      ]
     },
     "execution_count": 5,
     "metadata": {},
     "output_type": "execute_result"
    }
   ],
   "source": [
    "data = pd.DataFrame(\n",
    "    data, \n",
    "    columns=(['pt', 'eta', 'flavour'] + [i for i, _ in taggers])\n",
    ")\n",
    "data.head()"
   ]
  },
  {
   "cell_type": "markdown",
   "metadata": {},
   "source": [
    "__Always sanitize your input__\n",
    "\n",
    "![img](img/xkcd.png)\n",
    "\n",
    "Let's check if there are columns with `inf`s or `NaN`s. We are sure about soft electron/muons, but what about the rest?"
   ]
  },
  {
   "cell_type": "code",
   "execution_count": 6,
   "metadata": {
    "collapsed": false
   },
   "outputs": [
    {
     "name": "stdout",
     "output_type": "stream",
     "text": [
      "SoftMu contains infs\n",
      "SoftEl contains infs\n"
     ]
    }
   ],
   "source": [
    "for column in data.columns:\n",
    "    if np.isinf(data[column]).any():\n",
    "        print column, 'contains infs'\n",
    "    if np.isnan(data[column]).any():\n",
    "        print column, 'contains nans'"
   ]
  },
  {
   "cell_type": "markdown",
   "metadata": {},
   "source": [
    "You can check yourself what are the ranged of the features with infinities, but setting them to 0 works for us"
   ]
  },
  {
   "cell_type": "code",
   "execution_count": 7,
   "metadata": {
    "collapsed": false
   },
   "outputs": [
    {
     "data": {
      "text/html": [
       "<div>\n",
       "<style>\n",
       "    .dataframe thead tr:only-child th {\n",
       "        text-align: right;\n",
       "    }\n",
       "\n",
       "    .dataframe thead th {\n",
       "        text-align: left;\n",
       "    }\n",
       "\n",
       "    .dataframe tbody tr th {\n",
       "        vertical-align: top;\n",
       "    }\n",
       "</style>\n",
       "<table border=\"1\" class=\"dataframe\">\n",
       "  <thead>\n",
       "    <tr style=\"text-align: right;\">\n",
       "      <th></th>\n",
       "      <th>pt</th>\n",
       "      <th>eta</th>\n",
       "      <th>flavour</th>\n",
       "      <th>JP</th>\n",
       "      <th>JPB</th>\n",
       "      <th>SoftMu</th>\n",
       "      <th>SoftEl</th>\n",
       "      <th>CSV_IVF</th>\n",
       "      <th>CSV_AVR</th>\n",
       "      <th>CvsL</th>\n",
       "      <th>CvsB</th>\n",
       "      <th>cMVA</th>\n",
       "    </tr>\n",
       "  </thead>\n",
       "  <tbody>\n",
       "    <tr>\n",
       "      <th>0</th>\n",
       "      <td>37.370075</td>\n",
       "      <td>1.212207</td>\n",
       "      <td>0</td>\n",
       "      <td>0.256691</td>\n",
       "      <td>0.851892</td>\n",
       "      <td>0.0</td>\n",
       "      <td>0.0</td>\n",
       "      <td>0.402917</td>\n",
       "      <td>0.204543</td>\n",
       "      <td>-0.170928</td>\n",
       "      <td>0.307223</td>\n",
       "      <td>-0.817209</td>\n",
       "    </tr>\n",
       "    <tr>\n",
       "      <th>1</th>\n",
       "      <td>24.885422</td>\n",
       "      <td>0.527317</td>\n",
       "      <td>0</td>\n",
       "      <td>0.575257</td>\n",
       "      <td>2.261385</td>\n",
       "      <td>0.0</td>\n",
       "      <td>0.0</td>\n",
       "      <td>0.571494</td>\n",
       "      <td>0.571494</td>\n",
       "      <td>-0.073073</td>\n",
       "      <td>0.164668</td>\n",
       "      <td>-0.225201</td>\n",
       "    </tr>\n",
       "    <tr>\n",
       "      <th>2</th>\n",
       "      <td>172.527573</td>\n",
       "      <td>-1.216940</td>\n",
       "      <td>0</td>\n",
       "      <td>0.115215</td>\n",
       "      <td>1.135631</td>\n",
       "      <td>0.0</td>\n",
       "      <td>0.0</td>\n",
       "      <td>0.186590</td>\n",
       "      <td>0.118074</td>\n",
       "      <td>-0.127876</td>\n",
       "      <td>0.555111</td>\n",
       "      <td>-0.890519</td>\n",
       "    </tr>\n",
       "    <tr>\n",
       "      <th>3</th>\n",
       "      <td>171.097427</td>\n",
       "      <td>0.180090</td>\n",
       "      <td>0</td>\n",
       "      <td>0.093513</td>\n",
       "      <td>0.700514</td>\n",
       "      <td>0.0</td>\n",
       "      <td>0.0</td>\n",
       "      <td>0.065657</td>\n",
       "      <td>0.065657</td>\n",
       "      <td>-0.464250</td>\n",
       "      <td>0.639907</td>\n",
       "      <td>-0.972680</td>\n",
       "    </tr>\n",
       "    <tr>\n",
       "      <th>4</th>\n",
       "      <td>48.655796</td>\n",
       "      <td>-0.176831</td>\n",
       "      <td>0</td>\n",
       "      <td>0.011641</td>\n",
       "      <td>0.071470</td>\n",
       "      <td>0.0</td>\n",
       "      <td>0.0</td>\n",
       "      <td>0.068691</td>\n",
       "      <td>0.068691</td>\n",
       "      <td>-0.388764</td>\n",
       "      <td>0.521727</td>\n",
       "      <td>-0.985260</td>\n",
       "    </tr>\n",
       "  </tbody>\n",
       "</table>\n",
       "</div>"
      ],
      "text/plain": [
       "           pt       eta  flavour        JP       JPB  SoftMu  SoftEl  \\\n",
       "0   37.370075  1.212207        0  0.256691  0.851892     0.0     0.0   \n",
       "1   24.885422  0.527317        0  0.575257  2.261385     0.0     0.0   \n",
       "2  172.527573 -1.216940        0  0.115215  1.135631     0.0     0.0   \n",
       "3  171.097427  0.180090        0  0.093513  0.700514     0.0     0.0   \n",
       "4   48.655796 -0.176831        0  0.011641  0.071470     0.0     0.0   \n",
       "\n",
       "    CSV_IVF   CSV_AVR      CvsL      CvsB      cMVA  \n",
       "0  0.402917  0.204543 -0.170928  0.307223 -0.817209  \n",
       "1  0.571494  0.571494 -0.073073  0.164668 -0.225201  \n",
       "2  0.186590  0.118074 -0.127876  0.555111 -0.890519  \n",
       "3  0.065657  0.065657 -0.464250  0.639907 -0.972680  \n",
       "4  0.068691  0.068691 -0.388764  0.521727 -0.985260  "
      ]
     },
     "execution_count": 7,
     "metadata": {},
     "output_type": "execute_result"
    }
   ],
   "source": [
    "data.loc[np.isinf(data.SoftEl), 'SoftEl'] = 0\n",
    "data.loc[np.isinf(data.SoftMu), 'SoftMu'] = 0\n",
    "data.head()"
   ]
  },
  {
   "cell_type": "markdown",
   "metadata": {},
   "source": [
    "We will now have to set the true labels for the training/testing of our discriminator. We will create two sets of labels:\n",
    "  - __Binary labels:__ simply define if the jet is a b-jet or not\n",
    "  - __multiclass labels:__ define three possible options, light, charm and b. It is the same information we have in the flavour column, but encoded differently"
   ]
  },
  {
   "cell_type": "code",
   "execution_count": 9,
   "metadata": {
    "collapsed": false
   },
   "outputs": [],
   "source": [
    "data['binary_target'] = 0 #add target column\n",
    "data.loc[(data.flavour == 5), 'binary_target'] = 1\n",
    "data['isL'] = (data.flavour == 0)\n",
    "data['isB'] = (data.flavour == 5)\n",
    "data['isC'] = (data.flavour == 4)\n",
    "data['clf_binary'] = 0\n",
    "data['clf_multiclass'] = 0\n",
    "data['clf_multiclass_C'] = 0"
   ]
  },
  {
   "cell_type": "markdown",
   "metadata": {},
   "source": [
    "As in every machine learning exercise, we need to split our data into two samples, a training and a testing."
   ]
  },
  {
   "cell_type": "code",
   "execution_count": 10,
   "metadata": {
    "collapsed": false
   },
   "outputs": [],
   "source": [
    "train, test = train_test_split(data, test_size=0.3, random_state=42)"
   ]
  },
  {
   "cell_type": "markdown",
   "metadata": {},
   "source": [
    "We can now define our models. We will train two different BDTs, one trained on binary labels, one with multiclass labels."
   ]
  },
  {
   "cell_type": "code",
   "execution_count": 11,
   "metadata": {
    "collapsed": false
   },
   "outputs": [],
   "source": [
    "features = [i for i,_ in taggers if i != 'cMVA'] #FIXME!\n",
    "clf_binary = GradientBoostingClassifier(\n",
    "    learning_rate=0.01, n_estimators=1000, \n",
    "    subsample=0.8, random_state=13,\n",
    "    min_samples_leaf=int(0.01*len(train)),\n",
    "    max_depth=5,\n",
    "    verbose=1,\n",
    ")\n",
    "clf_multiclass = OneVsRestClassifier(sklearn.base.clone(clf_binary))"
   ]
  },
  {
   "cell_type": "code",
   "execution_count": 12,
   "metadata": {
    "collapsed": false
   },
   "outputs": [
    {
     "name": "stdout",
     "output_type": "stream",
     "text": [
      "      Iter       Train Loss      OOB Improve   Remaining Time \n",
      "         1           0.9972           0.0088            3.73m\n",
      "         2           0.9920           0.0085            3.76m\n",
      "         3           0.9838           0.0081            3.81m\n",
      "         4           0.9745           0.0079            3.80m\n",
      "         5           0.9672           0.0077            3.79m\n",
      "         6           0.9587           0.0075            3.77m\n",
      "         7           0.9517           0.0071            3.77m\n",
      "         8           0.9463           0.0067            3.76m\n",
      "         9           0.9398           0.0066            3.75m\n",
      "        10           0.9330           0.0064            3.74m\n",
      "        20           0.8768           0.0049            3.69m\n",
      "        30           0.8347           0.0038            3.66m\n",
      "        40           0.8027           0.0030            3.66m\n",
      "        50           0.7741           0.0026            3.62m\n",
      "        60           0.7497           0.0022            3.57m\n",
      "        70           0.7301           0.0018            3.50m\n",
      "        80           0.7155           0.0015            3.42m\n",
      "        90           0.6972           0.0013            3.36m\n",
      "       100           0.6860           0.0011            3.30m\n",
      "       200           0.6212           0.0003            2.88m\n",
      "       300           0.6048           0.0001            2.52m\n",
      "       400           0.5986           0.0000            2.13m\n",
      "       500           0.5933           0.0000            1.76m\n",
      "       600           0.5940           0.0000            1.40m\n",
      "       700           0.5919           0.0000            1.05m\n",
      "       800           0.5929          -0.0000           41.85s\n",
      "       900           0.5914          -0.0000           20.87s\n",
      "      1000           0.5913          -0.0000            0.00s\n",
      "      Iter       Train Loss      OOB Improve   Remaining Time \n",
      "         1           0.6066           0.0018            4.07m\n",
      "         2           0.6087           0.0017            4.04m\n",
      "         3           0.6057           0.0017            4.06m\n",
      "         4           0.6065           0.0016            4.02m\n",
      "         5           0.6009           0.0015            4.00m\n",
      "         6           0.6024           0.0015            4.01m\n",
      "         7           0.5963           0.0015            4.02m\n",
      "         8           0.5968           0.0013            4.00m\n",
      "         9           0.5973           0.0014            4.02m\n",
      "        10           0.5960           0.0012            4.02m\n",
      "        20           0.5832           0.0010            3.96m\n",
      "        30           0.5741           0.0007            3.93m\n",
      "        40           0.5711           0.0006            3.89m\n",
      "        50           0.5659           0.0004            3.85m\n",
      "        60           0.5594           0.0004            3.80m\n",
      "        70           0.5578           0.0003            3.76m\n",
      "        80           0.5573           0.0002            3.72m\n",
      "        90           0.5491           0.0002            3.68m\n",
      "       100           0.5489           0.0002            3.63m\n",
      "       200           0.5347           0.0000            3.10m\n",
      "       300           0.5322           0.0000            2.65m\n",
      "       400           0.5310           0.0000            2.21m\n",
      "       500           0.5278          -0.0000            1.81m\n",
      "       600           0.5294          -0.0000            1.43m\n",
      "       700           0.5261          -0.0000            1.06m\n",
      "       800           0.5289          -0.0000           42.01s\n",
      "       900           0.5278          -0.0000           20.88s\n",
      "      1000           0.5273          -0.0000            0.00s\n",
      "      Iter       Train Loss      OOB Improve   Remaining Time \n",
      "         1           0.6869           0.0113            3.35m\n",
      "         2           0.6780           0.0103            3.32m\n",
      "         3           0.6694           0.0098            3.35m\n",
      "         4           0.6558           0.0093            3.37m\n",
      "         5           0.6511           0.0087            3.36m\n",
      "         6           0.6387           0.0085            3.35m\n",
      "         7           0.6349           0.0077            3.35m\n",
      "         8           0.6280           0.0073            3.34m\n",
      "         9           0.6195           0.0071            3.34m\n",
      "        10           0.6120           0.0068            3.33m\n",
      "        20           0.5563           0.0047            3.29m\n",
      "        30           0.5172           0.0036            3.23m\n",
      "        40           0.4868           0.0027            3.21m\n",
      "        50           0.4601           0.0023            3.18m\n",
      "        60           0.4382           0.0019            3.14m\n",
      "        70           0.4191           0.0016            3.10m\n",
      "        80           0.4064           0.0014            3.07m\n",
      "        90           0.3918           0.0012            3.05m\n",
      "       100           0.3809           0.0010            3.02m\n",
      "       200           0.3238           0.0002            2.74m\n",
      "       300           0.3094           0.0001            2.38m\n",
      "       400           0.3042           0.0000            2.05m\n",
      "       500           0.2992           0.0000            1.69m\n",
      "       600           0.3002           0.0000            1.36m\n",
      "       700           0.2968           0.0000            1.01m\n",
      "       800           0.2960          -0.0000           40.35s\n",
      "       900           0.2976           0.0000           20.11s\n",
      "      1000           0.2958          -0.0000            0.00s\n",
      "      Iter       Train Loss      OOB Improve   Remaining Time \n",
      "         1           0.6869           0.0113            3.65m\n",
      "         2           0.6780           0.0103            3.55m\n",
      "         3           0.6694           0.0098            3.52m\n",
      "         4           0.6558           0.0093            3.47m\n",
      "         5           0.6511           0.0087            3.43m\n",
      "         6           0.6387           0.0085            3.39m\n",
      "         7           0.6349           0.0077            3.37m\n",
      "         8           0.6280           0.0073            3.36m\n",
      "         9           0.6195           0.0071            3.35m\n",
      "        10           0.6120           0.0068            3.35m\n",
      "        20           0.5563           0.0047            3.33m\n",
      "        30           0.5172           0.0036            3.29m\n",
      "        40           0.4868           0.0027            3.24m\n",
      "        50           0.4601           0.0023            3.20m\n",
      "        60           0.4382           0.0019            3.17m\n",
      "        70           0.4191           0.0016            3.12m\n",
      "        80           0.4064           0.0014            3.08m\n",
      "        90           0.3918           0.0012            3.05m\n",
      "       100           0.3809           0.0010            3.02m\n",
      "       200           0.3238           0.0002            2.74m\n",
      "       300           0.3094           0.0001            2.45m\n",
      "       400           0.3042           0.0000            2.07m\n",
      "       500           0.2992           0.0000            1.70m\n",
      "       600           0.3002           0.0000            1.35m\n",
      "       700           0.2968           0.0000            1.01m\n",
      "       800           0.2960          -0.0000           40.12s\n",
      "       900           0.2976           0.0000           20.08s\n",
      "      1000           0.2958          -0.0000            0.00s\n"
     ]
    },
    {
     "data": {
      "text/plain": [
       "GradientBoostingClassifier(criterion='friedman_mse', init=None,\n",
       "              learning_rate=0.01, loss='deviance', max_depth=5,\n",
       "              max_features=None, max_leaf_nodes=None,\n",
       "              min_impurity_split=1e-07, min_samples_leaf=1197,\n",
       "              min_samples_split=2, min_weight_fraction_leaf=0.0,\n",
       "              n_estimators=1000, presort='auto', random_state=13,\n",
       "              subsample=0.8, verbose=1, warm_start=False)"
      ]
     },
     "execution_count": 12,
     "metadata": {},
     "output_type": "execute_result"
    }
   ],
   "source": [
    "# Training, takes a while\n",
    "clf_multiclass.fit(train[features], train[['isL', 'isC', 'isB']].as_matrix())\n",
    "clf_binary.fit(train[features], train.binary_target)"
   ]
  },
  {
   "cell_type": "markdown",
   "metadata": {},
   "source": [
    "We can now store the output of the taggers in the columns we created before. Do not mind the warning coming from the command. \n",
    "\n",
    "You can see that the binary classifier outputs a N time 2 matrix corresponding to $p(non-b\\, |\\, jet)$, $p(b\\, |\\, jet)$, while the multiclass has three outputs $p(light\\, |\\, jet)$, $p(charm\\, |\\, jet)$, $p(b\\, |\\, jet)$."
   ]
  },
  {
   "cell_type": "code",
   "execution_count": 13,
   "metadata": {
    "collapsed": false
   },
   "outputs": [
    {
     "name": "stderr",
     "output_type": "stream",
     "text": [
      "/cvmfs/cms.cern.ch/slc6_amd64_gcc630/external/py2-pippkgs/6.0-elfike2/lib/python2.7/site-packages/ipykernel_launcher.py:1: SettingWithCopyWarning: \n",
      "A value is trying to be set on a copy of a slice from a DataFrame.\n",
      "Try using .loc[row_indexer,col_indexer] = value instead\n",
      "\n",
      "See the caveats in the documentation: http://pandas.pydata.org/pandas-docs/stable/indexing.html#indexing-view-versus-copy\n",
      "  \"\"\"Entry point for launching an IPython kernel.\n",
      "/cvmfs/cms.cern.ch/slc6_amd64_gcc630/external/py2-pippkgs/6.0-elfike2/lib/python2.7/site-packages/ipykernel_launcher.py:2: SettingWithCopyWarning: \n",
      "A value is trying to be set on a copy of a slice from a DataFrame.\n",
      "Try using .loc[row_indexer,col_indexer] = value instead\n",
      "\n",
      "See the caveats in the documentation: http://pandas.pydata.org/pandas-docs/stable/indexing.html#indexing-view-versus-copy\n",
      "  \n",
      "/cvmfs/cms.cern.ch/slc6_amd64_gcc630/external/py2-pippkgs/6.0-elfike2/lib/python2.7/site-packages/ipykernel_launcher.py:3: SettingWithCopyWarning: \n",
      "A value is trying to be set on a copy of a slice from a DataFrame.\n",
      "Try using .loc[row_indexer,col_indexer] = value instead\n",
      "\n",
      "See the caveats in the documentation: http://pandas.pydata.org/pandas-docs/stable/indexing.html#indexing-view-versus-copy\n",
      "  This is separate from the ipykernel package so we can avoid doing imports until\n"
     ]
    }
   ],
   "source": [
    "test['clf_binary'] = clf_binary.predict_proba(test[features])[:,1]\n",
    "test['clf_multiclass'] = clf_multiclass.predict_proba(test[features])[:,2]\n",
    "test['clf_multiclass_C'] = clf_multiclass.predict_proba(test[features])[:,1]"
   ]
  },
  {
   "cell_type": "code",
   "execution_count": 14,
   "metadata": {
    "collapsed": false
   },
   "outputs": [
    {
     "data": {
      "text/html": [
       "<div>\n",
       "<style>\n",
       "    .dataframe thead tr:only-child th {\n",
       "        text-align: right;\n",
       "    }\n",
       "\n",
       "    .dataframe thead th {\n",
       "        text-align: left;\n",
       "    }\n",
       "\n",
       "    .dataframe tbody tr th {\n",
       "        vertical-align: top;\n",
       "    }\n",
       "</style>\n",
       "<table border=\"1\" class=\"dataframe\">\n",
       "  <thead>\n",
       "    <tr style=\"text-align: right;\">\n",
       "      <th></th>\n",
       "      <th>pt</th>\n",
       "      <th>eta</th>\n",
       "      <th>flavour</th>\n",
       "      <th>JP</th>\n",
       "      <th>JPB</th>\n",
       "      <th>SoftMu</th>\n",
       "      <th>SoftEl</th>\n",
       "      <th>CSV_IVF</th>\n",
       "      <th>CSV_AVR</th>\n",
       "      <th>CvsL</th>\n",
       "      <th>CvsB</th>\n",
       "      <th>cMVA</th>\n",
       "      <th>binary_target</th>\n",
       "      <th>isL</th>\n",
       "      <th>isB</th>\n",
       "      <th>isC</th>\n",
       "      <th>clf_binary</th>\n",
       "      <th>clf_multiclass</th>\n",
       "      <th>clf_multiclass_C</th>\n",
       "    </tr>\n",
       "  </thead>\n",
       "  <tbody>\n",
       "    <tr>\n",
       "      <th>145382</th>\n",
       "      <td>53.413441</td>\n",
       "      <td>1.391386</td>\n",
       "      <td>5</td>\n",
       "      <td>0.100759</td>\n",
       "      <td>0.315170</td>\n",
       "      <td>0.0</td>\n",
       "      <td>0.0</td>\n",
       "      <td>0.104491</td>\n",
       "      <td>0.104491</td>\n",
       "      <td>-0.437477</td>\n",
       "      <td>0.584163</td>\n",
       "      <td>-0.982966</td>\n",
       "      <td>1</td>\n",
       "      <td>False</td>\n",
       "      <td>True</td>\n",
       "      <td>False</td>\n",
       "      <td>0.006859</td>\n",
       "      <td>0.006859</td>\n",
       "      <td>0.036784</td>\n",
       "    </tr>\n",
       "    <tr>\n",
       "      <th>98753</th>\n",
       "      <td>52.935764</td>\n",
       "      <td>-0.790210</td>\n",
       "      <td>0</td>\n",
       "      <td>0.047471</td>\n",
       "      <td>0.387351</td>\n",
       "      <td>0.0</td>\n",
       "      <td>0.0</td>\n",
       "      <td>0.196102</td>\n",
       "      <td>0.196102</td>\n",
       "      <td>-0.017001</td>\n",
       "      <td>0.554682</td>\n",
       "      <td>-0.958147</td>\n",
       "      <td>0</td>\n",
       "      <td>True</td>\n",
       "      <td>False</td>\n",
       "      <td>False</td>\n",
       "      <td>0.009761</td>\n",
       "      <td>0.009761</td>\n",
       "      <td>0.066273</td>\n",
       "    </tr>\n",
       "    <tr>\n",
       "      <th>78888</th>\n",
       "      <td>227.361542</td>\n",
       "      <td>-0.368802</td>\n",
       "      <td>0</td>\n",
       "      <td>0.166369</td>\n",
       "      <td>1.718190</td>\n",
       "      <td>0.0</td>\n",
       "      <td>0.0</td>\n",
       "      <td>0.210214</td>\n",
       "      <td>0.329868</td>\n",
       "      <td>-0.232901</td>\n",
       "      <td>0.464222</td>\n",
       "      <td>-0.721594</td>\n",
       "      <td>0</td>\n",
       "      <td>True</td>\n",
       "      <td>False</td>\n",
       "      <td>False</td>\n",
       "      <td>0.018910</td>\n",
       "      <td>0.018910</td>\n",
       "      <td>0.076039</td>\n",
       "    </tr>\n",
       "    <tr>\n",
       "      <th>41071</th>\n",
       "      <td>189.876251</td>\n",
       "      <td>1.096169</td>\n",
       "      <td>0</td>\n",
       "      <td>0.065417</td>\n",
       "      <td>0.476057</td>\n",
       "      <td>0.0</td>\n",
       "      <td>0.0</td>\n",
       "      <td>0.185687</td>\n",
       "      <td>0.070687</td>\n",
       "      <td>-0.314492</td>\n",
       "      <td>0.461965</td>\n",
       "      <td>-0.974515</td>\n",
       "      <td>0</td>\n",
       "      <td>True</td>\n",
       "      <td>False</td>\n",
       "      <td>False</td>\n",
       "      <td>0.008736</td>\n",
       "      <td>0.008736</td>\n",
       "      <td>0.050129</td>\n",
       "    </tr>\n",
       "    <tr>\n",
       "      <th>75721</th>\n",
       "      <td>168.353485</td>\n",
       "      <td>-0.762870</td>\n",
       "      <td>0</td>\n",
       "      <td>0.261268</td>\n",
       "      <td>1.116159</td>\n",
       "      <td>0.0</td>\n",
       "      <td>0.0</td>\n",
       "      <td>0.124096</td>\n",
       "      <td>0.124096</td>\n",
       "      <td>-0.335313</td>\n",
       "      <td>0.535425</td>\n",
       "      <td>-0.931281</td>\n",
       "      <td>0</td>\n",
       "      <td>True</td>\n",
       "      <td>False</td>\n",
       "      <td>False</td>\n",
       "      <td>0.013172</td>\n",
       "      <td>0.013172</td>\n",
       "      <td>0.069459</td>\n",
       "    </tr>\n",
       "  </tbody>\n",
       "</table>\n",
       "</div>"
      ],
      "text/plain": [
       "                pt       eta  flavour        JP       JPB  SoftMu  SoftEl  \\\n",
       "145382   53.413441  1.391386        5  0.100759  0.315170     0.0     0.0   \n",
       "98753    52.935764 -0.790210        0  0.047471  0.387351     0.0     0.0   \n",
       "78888   227.361542 -0.368802        0  0.166369  1.718190     0.0     0.0   \n",
       "41071   189.876251  1.096169        0  0.065417  0.476057     0.0     0.0   \n",
       "75721   168.353485 -0.762870        0  0.261268  1.116159     0.0     0.0   \n",
       "\n",
       "         CSV_IVF   CSV_AVR      CvsL      CvsB      cMVA  binary_target  \\\n",
       "145382  0.104491  0.104491 -0.437477  0.584163 -0.982966              1   \n",
       "98753   0.196102  0.196102 -0.017001  0.554682 -0.958147              0   \n",
       "78888   0.210214  0.329868 -0.232901  0.464222 -0.721594              0   \n",
       "41071   0.185687  0.070687 -0.314492  0.461965 -0.974515              0   \n",
       "75721   0.124096  0.124096 -0.335313  0.535425 -0.931281              0   \n",
       "\n",
       "          isL    isB    isC  clf_binary  clf_multiclass  clf_multiclass_C  \n",
       "145382  False   True  False    0.006859        0.006859          0.036784  \n",
       "98753    True  False  False    0.009761        0.009761          0.066273  \n",
       "78888    True  False  False    0.018910        0.018910          0.076039  \n",
       "41071    True  False  False    0.008736        0.008736          0.050129  \n",
       "75721    True  False  False    0.013172        0.013172          0.069459  "
      ]
     },
     "execution_count": 14,
     "metadata": {},
     "output_type": "execute_result"
    }
   ],
   "source": [
    "test.head()"
   ]
  },
  {
   "cell_type": "markdown",
   "metadata": {},
   "source": [
    "We can now print the ROC curves as in the previous exercise."
   ]
  },
  {
   "cell_type": "code",
   "execution_count": 15,
   "metadata": {
    "collapsed": false
   },
   "outputs": [
    {
     "data": {
      "image/png": "[encoded data removed]",
      "text/plain": [
       "<matplotlib.figure.Figure at 0x7f2a20eb9ed0>"
      ]
     },
     "metadata": {},
     "output_type": "display_data"
    }
   ],
   "source": [
    "fig = pyplt.figure(figsize=(15, 15), dpi= 80, facecolor='w', edgecolor='k')\n",
    "for algo, color in zip([\n",
    "    'cMVA', \n",
    "    'clf_binary', \n",
    "    'clf_multiclass',\n",
    "    ], 'rgb'):    \n",
    "    for bkg, style in zip([4, 0], ['-', '--']):\n",
    "        mask = (test.flavour != bkg)\n",
    "        jets = test[mask]\n",
    "        fakes_positive_rate, true_positive_rate, _ = roc_curve(jets.isB, jets[algo])\n",
    "        pyplt.plot(true_positive_rate, fakes_positive_rate, '%s%s' % (color, style))\n",
    "\n",
    "import matplotlib.lines as mlines\n",
    "pyplt.legend(\n",
    "    loc='best',\n",
    "    handles=[\n",
    "        mlines.Line2D([],[], color='red', ls='-', label='cMVAv2'),\n",
    "        mlines.Line2D([],[], color='green', ls='-', label='clf_binary'),\n",
    "        mlines.Line2D([],[], color='blue', ls='-', label='clf_multiclass'),\n",
    "        mlines.Line2D([],[], color='k', ls='-', label='b vs. light'),\n",
    "        mlines.Line2D([],[], color='k', ls='--', label='b vs. charm'),        \n",
    "        ])\n",
    "        \n",
    "pyplt.xlabel('efficiency')\n",
    "pyplt.ylabel('fake rate')\n",
    "pyplt.grid(True)\n",
    "pyplt.yscale('log', nonposy='clip')\n",
    "pyplt.show()"
   ]
  },
  {
   "cell_type": "markdown",
   "metadata": {
    "collapsed": true
   },
   "source": [
    "Can you make the charm-vs-light and charm-vs-b plots for the discriminators considered?"
   ]
  },
  {
   "cell_type": "code",
   "execution_count": null,
   "metadata": {
    "collapsed": true
   },
   "outputs": [],
   "source": []
  }
 ],
 "metadata": {
  "kernelspec": {
   "display_name": "Python 2",
   "language": "python",
   "name": "python2"
  },
  "language_info": {
   "codemirror_mode": {
    "name": "ipython",
    "version": 2
   },
   "file_extension": ".py",
   "mimetype": "text/x-python",
   "name": "python",
   "nbconvert_exporter": "python",
   "pygments_lexer": "ipython2",
   "version": "2.7.11"
  }
 },
 "nbformat": 4,
 "nbformat_minor": 2
}
