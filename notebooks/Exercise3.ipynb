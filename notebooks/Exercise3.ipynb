{
 "cells": [
  {
   "cell_type": "markdown",
   "metadata": {},
   "source": [
    "# Exercise 3\n",
    "\n",
    "\n",
    "## Part I - creating a useful data format\n",
    "\n",
    "Like in Exercise1, we will use `FWLite` to read the miniAOD files. In order to make things easier we will store the information we are interested in into a `pandas.DataFrame`, think of it as an in-memory form of `ROOT::TTree`, on steroids :).\n",
    "\n",
    "__Why using a `pandas.DataFrame`?__\n",
    "   - It's _fast_ (as much as C++)\n",
    "   - It's simple\n",
    "   - it avoids having to re-load the data every time like on FWLite\n",
    "   - conversion to modern data science/machine learning tools is immediate\n",
    "\n",
    "__but works only in memory, not good for very large datasets__"
   ]
  },
  {
   "cell_type": "code",
   "execution_count": null,
   "metadata": {},
   "outputs": [],
   "source": [
    "import ROOT\n",
    "import rootpy #hands down, a better version of PyROOT\n",
    "import rootpy.plotting as plt\n",
    "import pprint\n",
    "from DataFormats.FWLite import Events, Handle\n",
    "import pandas as pd\n",
    "ROOT.gStyle.SetOptStat(0)\n",
    "ROOT.gStyle.SetOptTitle(0)"
   ]
  },
  {
   "cell_type": "markdown",
   "metadata": {},
   "source": [
    "We now load the input file(s) and loop over them storing the relevant information. `data` will store the information we want to keep."
   ]
  },
  {
   "cell_type": "code",
   "execution_count": null,
   "metadata": {},
   "outputs": [],
   "source": [
    "data = []\n",
    "events = Events(\n",
    "    'YOUR_FILE_NAME'\n",
    ")\n",
    "handle = Handle('vector<pat::Jet>')\n",
    "for event in events:\n",
    "    event.getByLabel('slimmedJets', handle)\n",
    "    jets = handle.product()\n",
    "    for jet in jets:\n",
    "        if jet.pt() < 20 or abs(jet.eta()) > 2.4: continue #basic selection\n",
    "        #A more verbose, but more consistent version with dictionaries exists\n",
    "        data.append([\n",
    "            jet.pt(),\n",
    "            jet.eta(),\n",
    "            jet.bDiscriminator('pfCombinedInclusiveSecondaryVertexV2BJetTags'),\n",
    "            jet.bDiscriminator('pfCombinedMVAV2BJetTags'), #not use in this exercise\n",
    "            jet.bDiscriminator('pfDeepCSVJetTags:probb') + jet.bDiscriminator('pfDeepCSVJetTags:probbb'),\n",
    "            jet.bDiscriminator('pfDeepFlavourJetTags:probb') + jet.bDiscriminator('pfDeepFlavourJetTags:probbb') \\\n",
    "            + jet.bDiscriminator('pfDeepFlavourJetTags:problepb'),\n",
    "            abs(jet.hadronFlavour()), #5 - b-jet, 4 - c-jet, 0 - light\n",
    "        ])"
   ]
  },
  {
   "cell_type": "markdown",
   "metadata": {},
   "source": [
    "Let's make a DataFrame out of `data`"
   ]
  },
  {
   "cell_type": "code",
   "execution_count": null,
   "metadata": {},
   "outputs": [],
   "source": [
    "data = pd.DataFrame(data, columns=['pt', 'eta', 'CSVv2', 'cMVAv2', 'deepCSV', 'deepFlavour', 'flavour'])"
   ]
  },
  {
   "cell_type": "markdown",
   "metadata": {},
   "source": [
    "You can check the content of the first row of `data` with"
   ]
  },
  {
   "cell_type": "code",
   "execution_count": null,
   "metadata": {},
   "outputs": [],
   "source": [
    "data.head()"
   ]
  },
  {
   "cell_type": "markdown",
   "metadata": {},
   "source": [
    "## Part II - efficiency plots\n",
    "\n",
    "The efficiency is defined as:\n",
    "\n",
    "$ N_{b}^{passing}/N_{b}^{total} $\n",
    "\n",
    "Similarly the fake-rate is defined as:\n",
    "\n",
    "$ N_{non-b}^{passing}/N_{non-b}^{total} $\n",
    "\n",
    "We will compute the efficiency and fake rates as a function of the jet $p_{T}$, furthermore, we will divide the fake rate into the charm (`flavour == 4`) and light (`flavour == 0`). \n",
    "\n",
    "The threshold for the different discriminator and working points can be found [here](https://twiki.cern.ch/twiki/bin/viewauth/CMS/BtagRecommendation80XReReco). As you can see, they were meant for last year's data-taking, while the simulated samples we are using are for this year. \n",
    "\n",
    "Let's define the threshold somewhere we can easily access:"
   ]
  },
  {
   "cell_type": "code",
   "execution_count": null,
   "metadata": {},
   "outputs": [],
   "source": [
    "thresholds = {\n",
    "    'CSVv2' : {\n",
    "        'L' : 0.5803,\n",
    "        'M' : 0.8838,\n",
    "        'T' : 0.9693,\n",
    "    }, \n",
    "    'deepCSV' : {\n",
    "        'L' : 0.1522,\n",
    "        'M' : 0.4941,\n",
    "        'T' : 0.8001\n",
    "    },\n",
    "    'deepFlavour' : {\n",
    "        'L' : 0.0521,\n",
    "        'M' : 0.3033,\n",
    "        'T' : 0.7489\n",
    "    }\n",
    "}"
   ]
  },
  {
   "cell_type": "markdown",
   "metadata": {},
   "source": [
    "And make a set of histograms with a similar structure. At the same time we also define some basic cosmetics."
   ]
  },
  {
   "cell_type": "code",
   "execution_count": null,
   "metadata": {},
   "outputs": [],
   "source": [
    "binning = [20, 30, 40, 60, 80, 100, 150, 300, 600]\n",
    "efficiencies = {}\n",
    "\n",
    "#define histograms, and a bit of cosmetics \n",
    "for flavour, style in zip([5, 4, 0], [20, 22, 23]):\n",
    "    efficiencies[flavour] = {}\n",
    "    for algo, color in zip(['CSVv2', 'deepCSV','deepFlavour'], ['red', 'green', 'blue']):\n",
    "        efficiencies[flavour][algo] = {}\n",
    "        for wp in ['L', 'M', 'T']:\n",
    "            efficiencies[flavour][algo][wp] = plt.Hist(binning)\n",
    "            efficiencies[flavour][algo][wp].markercolor = color\n",
    "            efficiencies[flavour][algo][wp].markerstyle = style\n",
    "            efficiencies[flavour][algo][wp].title = '%s %s' % (algo, wp)"
   ]
  },
  {
   "cell_type": "markdown",
   "metadata": {},
   "source": [
    "For each algorithm, working point and $p_T$ bin we compute the efficiency and the fake rates.\n",
    "\n",
    "Few tips for filling the code block below:\n",
    "  - To make a selection in the `DataFrame` do `frame[frame.COLUMN ==/>/< value]`, you can assign the output to a new variable\n",
    "  - combine cuts with the bitwise and `(frame.COLUMN ==/>/< ...) & ...`\n",
    "  - access the bin edges with `histo_bin.x.low/high`"
   ]
  },
  {
   "cell_type": "code",
   "execution_count": null,
   "metadata": {},
   "outputs": [],
   "source": [
    "#\n",
    "# FILL THE CODE WHERE NEEDED\n",
    "#\n",
    "for flavour in efficiencies:\n",
    "    jets = #FIXME select only one type of jet flavour\n",
    "    for algo in efficiencies[flavour]:\n",
    "        for wp in efficiencies[flavour][algo]:\n",
    "            histo = efficiencies[flavour][algo][wp]\n",
    "            thr = thresholds[algo][wp]\n",
    "            for hbin in histo: #Loop over histogram bins\n",
    "                if hbin.overflow: continue #skip under/overflow bins\n",
    "                #select jets within a pt bin\n",
    "                pt_cut = #FIXME\n",
    "                selJets_pt_cut = #FIXME\n",
    "                #now calculate efficiency\n",
    "                #numerator: selJets with b-tag discriminator > thr\n",
    "                nNu = #FIXME\n",
    "                #denominator: all selJets\n",
    "                nDe = #FIXME\n",
    "                hbin.value = #FIXME\n",
    "                "
   ]
  },
  {
   "cell_type": "markdown",
   "metadata": {},
   "source": [
    "We can now make plots"
   ]
  },
  {
   "cell_type": "code",
   "execution_count": null,
   "metadata": {},
   "outputs": [],
   "source": [
    "keep = [] #we just need this to avoid ROOT to mess-up with python\n",
    "for wp in 'LMT':\n",
    "    canvas = plt.Canvas(500, 500)\n",
    "    canvas.SetLogy()\n",
    "    legend = plt.Legend(3, entrysep=0.00, rightmargin=0.02, entryheight=0.05, textsize=0.03, topmargin=0.6)\n",
    "    first = True\n",
    "    for flavour in efficiencies:\n",
    "        for algo in efficiencies[flavour]:\n",
    "            efficiencies[flavour][algo][wp].yaxis.range_user = (0.001,1)\n",
    "            efficiencies[flavour][algo][wp].Draw('p' if first else 'p same')            \n",
    "            first = False\n",
    "            if flavour == 5: #do not overcrowd the legend\n",
    "                legend.AddEntry(efficiencies[flavour][algo][wp])\n",
    "    legend.Draw()\n",
    "    canvas.Draw()\n",
    "    keep.extend([legend, canvas])"
   ]
  },
  {
   "cell_type": "markdown",
   "metadata": {},
   "source": [
    "## Part III - ROC Curves\n",
    "\n",
    "From the previous plots can you tell which is the most performing algorithm?\n",
    "\n",
    "To show both effect in a single plots it is customary to plot the results in a [ROC Curve](https://it.wikipedia.org/wiki/Receiver_operating_characteristic). To do so, we will use [scikit-learn](http://scikit-learn.org/), a (if not __the__) machine learning library for python. For plotting we will use [matplotlib](https://matplotlib.org/) a python-centric plotting library, most of the scientific and data analysis python libraries work seamlessly with matplotlib, much less so with ROOT, and it even has an [xkcd style](https://matplotlib.org/examples/showcase/xkcd.html)."
   ]
  },
  {
   "cell_type": "code",
   "execution_count": null,
   "metadata": {},
   "outputs": [],
   "source": [
    "%matplotlib inline\n",
    "\n",
    "import matplotlib\n",
    "import numpy as np\n",
    "import matplotlib.pyplot as pyplt\n",
    "from sklearn.metrics import roc_curve"
   ]
  },
  {
   "cell_type": "code",
   "execution_count": null,
   "metadata": {},
   "outputs": [],
   "source": [
    "data['isB'] = (data.flavour == 5)\n",
    "data.head()"
   ]
  },
  {
   "cell_type": "code",
   "execution_count": null,
   "metadata": {},
   "outputs": [],
   "source": [
    "data[np.isnan(data.deepCSV)] = 0"
   ]
  },
  {
   "cell_type": "code",
   "execution_count": null,
   "metadata": {},
   "outputs": [],
   "source": [
    "fig = pyplt.figure(figsize=(15, 15), dpi= 80, facecolor='w', edgecolor='k')\n",
    "for algo, color in zip(['CSVv2', 'deepCSV', 'deepFlavour'], 'rgb'):    \n",
    "    for bkg, style in zip([4, 0], ['-', '--']): #- solid line -- dash line\n",
    "        mask = (data.flavour != bkg)\n",
    "        jets = data[mask]\n",
    "        fakes_positive_rate, true_positive_rate, _ = roc_curve(jets.isB, jets[algo])\n",
    "        pyplt.plot(true_positive_rate, fakes_positive_rate, '%s%s' % (color, style))\n",
    "\n",
    "pyplt.xlabel('efficiency')\n",
    "pyplt.ylabel('fake rate')\n",
    "pyplt.grid(True)\n",
    "pyplt.yscale('log', nonposy='clip')\n",
    "pyplt.show()"
   ]
  },
  {
   "cell_type": "code",
   "execution_count": null,
   "metadata": {},
   "outputs": [],
   "source": []
  }
 ],
 "metadata": {
  "kernelspec": {
   "display_name": "Python 2",
   "language": "python",
   "name": "python2"
  },
  "language_info": {
   "codemirror_mode": {
    "name": "ipython",
    "version": 2
   },
   "file_extension": ".py",
   "mimetype": "text/x-python",
   "name": "python",
   "nbconvert_exporter": "python",
   "pygments_lexer": "ipython2",
   "version": "2.7.15+"
  }
 },
 "nbformat": 4,
 "nbformat_minor": 2
}
