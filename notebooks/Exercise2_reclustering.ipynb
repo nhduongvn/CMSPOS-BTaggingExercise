{
 "cells": [
  {
   "cell_type": "markdown",
   "metadata": {},
   "source": [
    "# Exercise 2 -- reclustering\n",
    "\n",
    "Now you should know the drill. The first part is exactly the same"
   ]
  },
  {
   "cell_type": "code",
   "execution_count": 2,
   "metadata": {},
   "outputs": [],
   "source": [
    "import FWCore.ParameterSet.Config as cms\n",
    "from Configuration.StandardSequences.Eras import eras\n",
    "process = cms.Process(\"USER\",eras.Run2_2018)\n",
    "\n",
    "## Load services\n",
    "process.load(\"Configuration.Geometry.GeometryRecoDB_cff\")\n",
    "process.load(\"Configuration.StandardSequences.FrontierConditions_GlobalTag_cff\")\n",
    "process.load(\"Configuration.StandardSequences.MagneticField_cff\")\n",
    "process.load(\"FWCore.MessageService.MessageLogger_cfi\")\n",
    "process.MessageLogger.cerr.FwkReport.reportEvery = 10\n",
    "from Configuration.AlCa.GlobalTag import GlobalTag\n",
    "process.GlobalTag = GlobalTag(process.GlobalTag, '102X_upgrade2018_realistic_v15')\n",
    "\n",
    "##Inputs\n",
    "#Source\n",
    "process.source = cms.Source(\n",
    "    \"PoolSource\",\n",
    "    fileNames = cms.untracked.vstring(\n",
    "        'root://cmseos.fnal.gov//store/user/hats/2019/Tagging/TTToSemiLeptonic_RunIIAutumn18MiniAOD-102X_upgrade2018_realistic_v15/D7F68ED3-7D8A-0A4E-A53E-D5557F11760C.root'\n",
    "    )\n",
    ")\n",
    "\n",
    "#Events to run\n",
    "process.maxEvents = cms.untracked.PSet( \n",
    "    input = cms.untracked.int32(100) \n",
    ")\n",
    "\n",
    "#Long summary\n",
    "process.options = cms.untracked.PSet( \n",
    "    wantSummary = cms.untracked.bool(True) \n",
    ")\n"
   ]
  },
  {
   "cell_type": "markdown",
   "metadata": {},
   "source": [
    "## Re-making jets"
   ]
  },
  {
   "cell_type": "code",
   "execution_count": 3,
   "metadata": {},
   "outputs": [],
   "source": [
    "#################################################\n",
    "## Remake jets\n",
    "#################################################\n",
    "\n",
    "## Filter out neutrinos from packed GenParticles\n",
    "process.packedGenParticlesForJetsNoNu = cms.EDFilter(\n",
    "    \"CandPtrSelector\", \n",
    "    src = cms.InputTag(\"packedGenParticles\"), \n",
    "    cut = cms.string(\"abs(pdgId) != 12 && abs(pdgId) != 14 && abs(pdgId) != 16\")\n",
    ")\n",
    "\n",
    "## Define GenJets\n",
    "from RecoJets.JetProducers.ak4GenJets_cfi import ak4GenJets\n",
    "process.ak4GenJetsNoNu = ak4GenJets.clone(\n",
    "    src = 'packedGenParticlesForJetsNoNu'\n",
    ")\n",
    "\n",
    "## Select charged hadron subtracted packed PF candidates\n",
    "process.pfCHS = cms.EDFilter(\n",
    "    \"CandPtrSelector\", \n",
    "    src = cms.InputTag(\"packedPFCandidates\"), \n",
    "    cut = cms.string(\"fromPV\")\n",
    ")\n",
    "\n",
    "from RecoJets.JetProducers.ak4PFJets_cfi import ak4PFJets\n",
    "## Define PFJetsCHS\n",
    "process.ak4PFJetsCHS = ak4PFJets.clone(\n",
    "    src = 'pfCHS', \n",
    "    doAreaFastjet = True\n",
    ")"
   ]
  },
  {
   "cell_type": "markdown",
   "metadata": {},
   "source": [
    "## Making PAT jets\n",
    "\n",
    "The following part produces the `pat::Jet` collection out of the newly created `reco::Jet` collection. As for the previous exercise, we will use a PAT tool modifier: `switchJetCollection`. You can view all its options as usual."
   ]
  },
  {
   "cell_type": "code",
   "execution_count": 4,
   "metadata": {},
   "outputs": [
    {
     "name": "stdout",
     "output_type": "stream",
     "text": [
      "\n",
      "    Tool to switch parameters of the PAT jet collection to your PAT Tuple.\n",
      "    \n",
      "   - postfix:  postfix from usePF2PAT\n",
      "   - btagPrefix:  Prefix to be added to b-tag discriminator and TagInfo names\n",
      "   - jetSource:  Label of the input collection from which the new patJet collection should be created\n",
      "   - pfCandidates:  Label of the input collection for candidatecandidatese used in b-tagging\n",
      "   - explicitJTA:  Use explicit jet-track association\n",
      "   - pvSource:  Label of the input collection for primary vertices used in b-tagging\n",
      "   - svSource:  Label of the input collection for IVF vertices used in b-tagging\n",
      "   - elSource:  Label of the input collection for electrons used in b-tagging\n",
      "   - muSource:  Label of the input collection for muons used in b-tagging\n",
      "   - runIVF:  Re-run IVF secondary vertex reconstruction\n",
      "   - tightBTagNTkHits:  Enable legacy tight b-tag track selection\n",
      "   - loadStdRecoBTag:  Load the standard reconstruction b-tagging modules\n",
      "   - svClustering:  Secondary vertices ghost-associated to jets using jet clustering (mostly intended for subjets)\n",
      "   - fatJets:  Fat jet collection used for secondary vertex clustering\n",
      "   - groomedFatJets:  Groomed fat jet collection used for secondary vertex clustering\n",
      "   - algo:  Jet algorithm of the input collection from which the new patJet collection should be created\n",
      "   - rParam:  Jet size (distance parameter R used in jet clustering)\n",
      "   - getJetMCFlavour:  Get jet MC truth flavour\n",
      "   - genJetCollection:  GenJet collection to match to\n",
      "   - genParticles:  GenParticle collection to be used\n",
      "   - jetCorrections:  Add all relevant information about jet energy corrections that you want to be added to your new patJet         collection. The format is to be passed on in a python tuple: e.g. ('AK4Calo',['L2Relative', 'L3Absolute'], patMet). The first argument corresponds to the payload         in the CMS Conditions database for the given jet collection; the second argument corresponds to the jet energy correction level that you want to be embedded into your         new patJet collection. This should be given as a list of strings. Available values are L1Offset, L1FastJet, L1JPTOffset, L2Relative, L3Absolute, L5Falvour, L7Parton; the         third argument indicates whether MET(Type1) corrections should be applied corresponding to the new patJetCollection. If so a new patMet collection will be added to your PAT         Tuple in addition to the raw patMet with the MET(Type1) corrections applied. The argument corresponds to the patMet collection to which the MET(Type1) corrections should be         applied. If you are not interested in MET(Type1) corrections to this new patJet collection pass None as third argument of the python tuple.\n",
      "   - btagDiscriminators:  If you are interested in btagging in general the btag discriminators is all relevant         information that you need for a high level analysis. Add here all btag discriminators, that you are interested in as a list of strings. If this list is empty no btag         discriminator information will be added to your new patJet collection.\n",
      "   - btagInfos:  The btagInfos objects conatin all relevant information from which all discriminators of a certain         type have been calculated. Note that this information on the one hand can be very space consuming and on the other hand is not necessary to access the btag discriminator         information that has been derived from it. Only in very special cases the btagInfos might really be needed in your analysis. Add here all btagInfos, that you are interested         in as a list of strings. If this list is empty no btagInfos will be added to your new patJet collection.\n",
      "   - jetTrackAssociation:  Add JetTrackAssociation and JetCharge from reconstructed tracks to your new patJet collection. This         switch is only of relevance if you don't add any btag information to your new patJet collection (btagDiscriminators or btagInfos) and still want this information added to         your new patJetCollection. If btag information is added to the new patJet collection this information will be added automatically.\n",
      "   - outputModules:  Output module labels. Add a list of all output modules to which you would like the new jet collection to         be added, in case you use more than one output module.\n"
     ]
    }
   ],
   "source": [
    "from PhysicsTools.PatAlgos.tools.jetTools import switchJetCollection\n",
    "print switchJetCollection.__doc__\n",
    "for par_name, par in switchJetCollection._parameters.iteritems():\n",
    "    print '   - %s:  %s' % (par_name, par.description)"
   ]
  },
  {
   "cell_type": "markdown",
   "metadata": {},
   "source": [
    "We want to make a new pat jet collection from the jet collection we just created, and add the following discriminators: CSVv2, cMVAv2, and DeepCSV. Please fill the following code"
   ]
  },
  {
   "cell_type": "code",
   "execution_count": 6,
   "metadata": {},
   "outputs": [
    {
     "ename": "TypeError",
     "evalue": "The type for parameter \"FIXME\" is not \"<class 'FWCore.ParameterSet.Types.InputTag'>\"",
     "output_type": "error",
     "traceback": [
      "\u001b[0;31m---------------------------------------------------------------------------\u001b[0m",
      "\u001b[0;31mTypeError\u001b[0m                                 Traceback (most recent call last)",
      "\u001b[0;32m<ipython-input-6-bc03d5a0267a>\u001b[0m in \u001b[0;36m<module>\u001b[0;34m()\u001b[0m\n\u001b[1;32m     22\u001b[0m     \u001b[0mjetCorrections\u001b[0m \u001b[0;34m=\u001b[0m \u001b[0;34m(\u001b[0m\u001b[0;34m'AK4PFchs'\u001b[0m\u001b[0;34m,\u001b[0m \u001b[0;34m[\u001b[0m\u001b[0;34m'L1FastJet'\u001b[0m\u001b[0;34m,\u001b[0m \u001b[0;34m'L2Relative'\u001b[0m\u001b[0;34m,\u001b[0m \u001b[0;34m'L3Absolute'\u001b[0m\u001b[0;34m]\u001b[0m\u001b[0;34m,\u001b[0m \u001b[0;34m'None'\u001b[0m\u001b[0;34m)\u001b[0m\u001b[0;34m,\u001b[0m\u001b[0;34m\u001b[0m\u001b[0m\n\u001b[1;32m     23\u001b[0m     \u001b[0mgenJetCollection\u001b[0m \u001b[0;34m=\u001b[0m \u001b[0mFIXME\u001b[0m\u001b[0;34m,\u001b[0m\u001b[0;34m\u001b[0m\u001b[0m\n\u001b[0;32m---> 24\u001b[0;31m     \u001b[0mgenParticles\u001b[0m \u001b[0;34m=\u001b[0m \u001b[0mFIXME\u001b[0m\u001b[0;34m\u001b[0m\u001b[0m\n\u001b[0m\u001b[1;32m     25\u001b[0m )\n\u001b[1;32m     26\u001b[0m \u001b[0mgetattr\u001b[0m\u001b[0;34m(\u001b[0m\u001b[0mprocess\u001b[0m\u001b[0;34m,\u001b[0m\u001b[0;34m'selectedPatJets'\u001b[0m\u001b[0;34m)\u001b[0m\u001b[0;34m.\u001b[0m\u001b[0mcut\u001b[0m \u001b[0;34m=\u001b[0m \u001b[0mcms\u001b[0m\u001b[0;34m.\u001b[0m\u001b[0mstring\u001b[0m\u001b[0;34m(\u001b[0m\u001b[0;34m'pt > 10'\u001b[0m\u001b[0;34m)\u001b[0m   \u001b[0;31m# to match the selection for slimmedJets in MiniAOD\u001b[0m\u001b[0;34m\u001b[0m\u001b[0m\n",
      "\u001b[0;32m/cvmfs/cms.cern.ch/slc6_amd64_gcc700/cms/cmssw/CMSSW_10_2_11/python/PhysicsTools/PatAlgos/tools/jetTools.pyc\u001b[0m in \u001b[0;36m__call__\u001b[0;34m(self, process, postfix, btagPrefix, jetSource, pfCandidates, explicitJTA, pvSource, svSource, elSource, muSource, runIVF, tightBTagNTkHits, loadStdRecoBTag, svClustering, fatJets, groomedFatJets, algo, rParam, getJetMCFlavour, genJetCollection, genParticles, jetCorrections, btagDiscriminators, btagInfos, jetTrackAssociation, outputModules)\u001b[0m\n\u001b[1;32m   1326\u001b[0m         \u001b[0;32mif\u001b[0m \u001b[0mjetSource\u001b[0m \u001b[0;32mis\u001b[0m \u001b[0mNone\u001b[0m\u001b[0;34m:\u001b[0m\u001b[0;34m\u001b[0m\u001b[0m\n\u001b[1;32m   1327\u001b[0m             \u001b[0mjetSource\u001b[0m\u001b[0;34m=\u001b[0m\u001b[0mself\u001b[0m\u001b[0;34m.\u001b[0m\u001b[0m_defaultParameters\u001b[0m\u001b[0;34m[\u001b[0m\u001b[0;34m'jetSource'\u001b[0m\u001b[0;34m]\u001b[0m\u001b[0;34m.\u001b[0m\u001b[0mvalue\u001b[0m\u001b[0;34m\u001b[0m\u001b[0m\n\u001b[0;32m-> 1328\u001b[0;31m         \u001b[0mself\u001b[0m\u001b[0;34m.\u001b[0m\u001b[0msetParameter\u001b[0m\u001b[0;34m(\u001b[0m\u001b[0;34m'jetSource'\u001b[0m\u001b[0;34m,\u001b[0m \u001b[0mjetSource\u001b[0m\u001b[0;34m)\u001b[0m\u001b[0;34m\u001b[0m\u001b[0m\n\u001b[0m\u001b[1;32m   1329\u001b[0m         \u001b[0;32mif\u001b[0m \u001b[0mpfCandidates\u001b[0m \u001b[0;32mis\u001b[0m \u001b[0mNone\u001b[0m\u001b[0;34m:\u001b[0m\u001b[0;34m\u001b[0m\u001b[0m\n\u001b[1;32m   1330\u001b[0m             \u001b[0mpfCandidates\u001b[0m\u001b[0;34m=\u001b[0m\u001b[0mself\u001b[0m\u001b[0;34m.\u001b[0m\u001b[0m_defaultParameters\u001b[0m\u001b[0;34m[\u001b[0m\u001b[0;34m'pfCandidates'\u001b[0m\u001b[0;34m]\u001b[0m\u001b[0;34m.\u001b[0m\u001b[0mvalue\u001b[0m\u001b[0;34m\u001b[0m\u001b[0m\n",
      "\u001b[0;32m/cvmfs/cms.cern.ch/slc6_amd64_gcc700/cms/cmssw/CMSSW_10_2_11/python/FWCore/GuiBrowsers/ConfigToolBase.pyc\u001b[0m in \u001b[0;36msetParameter\u001b[0;34m(self, name, value, typeNone)\u001b[0m\n\u001b[1;32m    122\u001b[0m         \u001b[0mself\u001b[0m\u001b[0;34m.\u001b[0m\u001b[0m_parameters\u001b[0m\u001b[0;34m[\u001b[0m\u001b[0mname\u001b[0m\u001b[0;34m]\u001b[0m\u001b[0;34m.\u001b[0m\u001b[0mvalue\u001b[0m\u001b[0;34m=\u001b[0m\u001b[0mvalue\u001b[0m\u001b[0;34m\u001b[0m\u001b[0m\n\u001b[1;32m    123\u001b[0m         \u001b[0;31m### check about input value type\u001b[0m\u001b[0;34m\u001b[0m\u001b[0;34m\u001b[0m\u001b[0m\n\u001b[0;32m--> 124\u001b[0;31m         \u001b[0mself\u001b[0m\u001b[0;34m.\u001b[0m\u001b[0mtypeError\u001b[0m\u001b[0;34m(\u001b[0m\u001b[0mname\u001b[0m\u001b[0;34m)\u001b[0m\u001b[0;34m\u001b[0m\u001b[0m\n\u001b[0m\u001b[1;32m    125\u001b[0m         \u001b[0;31m### check about input value (it works if allowedValues for the specific parameter is set)\u001b[0m\u001b[0;34m\u001b[0m\u001b[0;34m\u001b[0m\u001b[0m\n\u001b[1;32m    126\u001b[0m         \u001b[0;32mif\u001b[0m \u001b[0mself\u001b[0m\u001b[0;34m.\u001b[0m\u001b[0m_defaultParameters\u001b[0m\u001b[0;34m[\u001b[0m\u001b[0mname\u001b[0m\u001b[0;34m]\u001b[0m\u001b[0;34m.\u001b[0m\u001b[0mallowedValues\u001b[0m \u001b[0;32mis\u001b[0m \u001b[0;32mnot\u001b[0m \u001b[0mNone\u001b[0m\u001b[0;34m:\u001b[0m \u001b[0mself\u001b[0m\u001b[0;34m.\u001b[0m\u001b[0misAllowed\u001b[0m\u001b[0;34m(\u001b[0m\u001b[0mname\u001b[0m\u001b[0;34m,\u001b[0m\u001b[0mvalue\u001b[0m \u001b[0;34m)\u001b[0m\u001b[0;34m\u001b[0m\u001b[0m\n",
      "\u001b[0;32m/cvmfs/cms.cern.ch/slc6_amd64_gcc700/cms/cmssw/CMSSW_10_2_11/python/FWCore/GuiBrowsers/ConfigToolBase.pyc\u001b[0m in \u001b[0;36mtypeError\u001b[0;34m(self, name)\u001b[0m\n\u001b[1;32m    186\u001b[0m         \u001b[0;32mif\u001b[0m \u001b[0mself\u001b[0m\u001b[0;34m.\u001b[0m\u001b[0m_parameters\u001b[0m\u001b[0;34m[\u001b[0m\u001b[0mname\u001b[0m\u001b[0;34m]\u001b[0m\u001b[0;34m.\u001b[0m\u001b[0macceptNoneValue\u001b[0m \u001b[0;32mis\u001b[0m \u001b[0mFalse\u001b[0m\u001b[0;34m:\u001b[0m\u001b[0;34m\u001b[0m\u001b[0m\n\u001b[1;32m    187\u001b[0m             \u001b[0;32mif\u001b[0m \u001b[0;32mnot\u001b[0m \u001b[0misinstance\u001b[0m\u001b[0;34m(\u001b[0m\u001b[0mself\u001b[0m\u001b[0;34m.\u001b[0m\u001b[0m_parameters\u001b[0m\u001b[0;34m[\u001b[0m\u001b[0mname\u001b[0m\u001b[0;34m]\u001b[0m\u001b[0;34m.\u001b[0m\u001b[0mvalue\u001b[0m\u001b[0;34m,\u001b[0m\u001b[0mself\u001b[0m\u001b[0;34m.\u001b[0m\u001b[0m_parameters\u001b[0m\u001b[0;34m[\u001b[0m\u001b[0mname\u001b[0m\u001b[0;34m]\u001b[0m\u001b[0;34m.\u001b[0m\u001b[0mtype\u001b[0m\u001b[0;34m)\u001b[0m\u001b[0;34m:\u001b[0m\u001b[0;34m\u001b[0m\u001b[0m\n\u001b[0;32m--> 188\u001b[0;31m                 \u001b[0;32mraise\u001b[0m \u001b[0mTypeError\u001b[0m\u001b[0;34m(\u001b[0m\u001b[0mself\u001b[0m\u001b[0;34m.\u001b[0m\u001b[0merrorMessage\u001b[0m\u001b[0;34m(\u001b[0m\u001b[0mself\u001b[0m\u001b[0;34m.\u001b[0m\u001b[0m_parameters\u001b[0m\u001b[0;34m[\u001b[0m\u001b[0mname\u001b[0m\u001b[0;34m]\u001b[0m\u001b[0;34m.\u001b[0m\u001b[0mvalue\u001b[0m\u001b[0;34m,\u001b[0m\u001b[0mself\u001b[0m\u001b[0;34m.\u001b[0m\u001b[0m_parameters\u001b[0m\u001b[0;34m[\u001b[0m\u001b[0mname\u001b[0m\u001b[0;34m]\u001b[0m\u001b[0;34m.\u001b[0m\u001b[0mtype\u001b[0m\u001b[0;34m)\u001b[0m\u001b[0;34m)\u001b[0m\u001b[0;34m\u001b[0m\u001b[0m\n\u001b[0m\u001b[1;32m    189\u001b[0m         \u001b[0;32melse\u001b[0m\u001b[0;34m:\u001b[0m\u001b[0;34m\u001b[0m\u001b[0m\n\u001b[1;32m    190\u001b[0m             \u001b[0;32mif\u001b[0m \u001b[0;32mnot\u001b[0m \u001b[0;34m(\u001b[0m\u001b[0misinstance\u001b[0m\u001b[0;34m(\u001b[0m\u001b[0mself\u001b[0m\u001b[0;34m.\u001b[0m\u001b[0m_parameters\u001b[0m\u001b[0;34m[\u001b[0m\u001b[0mname\u001b[0m\u001b[0;34m]\u001b[0m\u001b[0;34m.\u001b[0m\u001b[0mvalue\u001b[0m\u001b[0;34m,\u001b[0m\u001b[0mself\u001b[0m\u001b[0;34m.\u001b[0m\u001b[0m_parameters\u001b[0m\u001b[0;34m[\u001b[0m\u001b[0mname\u001b[0m\u001b[0;34m]\u001b[0m\u001b[0;34m.\u001b[0m\u001b[0mtype\u001b[0m\u001b[0;34m)\u001b[0m \u001b[0;32mor\u001b[0m \u001b[0mself\u001b[0m\u001b[0;34m.\u001b[0m\u001b[0m_parameters\u001b[0m\u001b[0;34m[\u001b[0m\u001b[0mname\u001b[0m\u001b[0;34m]\u001b[0m\u001b[0;34m.\u001b[0m\u001b[0mvalue\u001b[0m \u001b[0;32mis\u001b[0m  \u001b[0mNone\u001b[0m\u001b[0;34m)\u001b[0m\u001b[0;34m:\u001b[0m\u001b[0;34m\u001b[0m\u001b[0m\n",
      "\u001b[0;31mTypeError\u001b[0m: The type for parameter \"FIXME\" is not \"<class 'FWCore.ParameterSet.Types.InputTag'>\""
     ]
    }
   ],
   "source": [
    "## b-tag discriminators\n",
    "bTagDiscriminators = [\n",
    "    #\n",
    "    # PUT THE DISCRIMINATORS HERE\n",
    "    #\n",
    "]\n",
    "\n",
    "## Switch the default PAT jet collection to the above-defined ak4PFJetsCHS\n",
    "#\n",
    "# REPLACE THE FIXME!\n",
    "# \n",
    "FIXME = 'FIXME' #this is just here to avoid python to raise an exception\n",
    "switchJetCollection(\n",
    "    process,\n",
    "    jetSource = FIXME,\n",
    "    pvSource = FIXME,\n",
    "    pfCandidates = FIXME,\n",
    "    svSource = FIXME,\n",
    "    muSource = FIXME,\n",
    "    elSource = FIXME,\n",
    "    btagDiscriminators = bTagDiscriminators,\n",
    "    jetCorrections = ('AK4PFchs', ['L1FastJet', 'L2Relative', 'L3Absolute'], 'None'),\n",
    "    genJetCollection = FIXME,\n",
    "    genParticles = FIXME\n",
    ")\n",
    "getattr(process,'selectedPatJets').cut = cms.string('pt > 10')   # to match the selection for slimmedJets in MiniAOD"
   ]
  },
  {
   "cell_type": "markdown",
   "metadata": {},
   "source": [
    "What is this needed for?"
   ]
  },
  {
   "cell_type": "code",
   "execution_count": 5,
   "metadata": {},
   "outputs": [
    {
     "name": "stdout",
     "output_type": "stream",
     "text": [
      "Switching PV collection for PF2PAT: cms.InputTag(\"offlineSlimmedPrimaryVertices\")\n",
      "***********************************\n"
     ]
    }
   ],
   "source": [
    "from PhysicsTools.PatAlgos.tools.pfTools import adaptPVs\n",
    "## Adapt primary vertex collection\n",
    "adaptPVs(\n",
    "    process, \n",
    "    pvCollection=cms.InputTag('offlineSlimmedPrimaryVertices')\n",
    ")"
   ]
  },
  {
   "cell_type": "markdown",
   "metadata": {},
   "source": [
    "Now, set the output. Please note the use of the `Task`, which allows the configuration file to run smoothly in the unscheduled mode"
   ]
  },
  {
   "cell_type": "code",
   "execution_count": 6,
   "metadata": {},
   "outputs": [],
   "source": [
    "#output\n",
    "process.out = cms.OutputModule(\n",
    "    \"PoolOutputModule\",\n",
    "    fileName = cms.untracked.string('recluster_jets.root'),\n",
    "    ## save only events passing the full path\n",
    "    #SelectEvents = cms.untracked.PSet( SelectEvents = cms.vstring('p') ),\n",
    "    outputCommands = cms.untracked.vstring(\n",
    "        'drop *', ## Do not keep anything\n",
    "        'keep *_slimmedJets_*_*', \n",
    "        'keep *_selectedPatJets_*_*', \n",
    "    )\n",
    ")\n",
    "\n",
    "#\n",
    "# ADD YOUR CODE HERE!\n",
    "#\n",
    "process.outpath = cms.EndPath(process.out, patAlgosToolsTask)"
   ]
  },
  {
   "cell_type": "code",
   "execution_count": null,
   "metadata": {
    "collapsed": true
   },
   "outputs": [],
   "source": []
  }
 ],
 "metadata": {
  "kernelspec": {
   "display_name": "Python 2",
   "language": "python",
   "name": "python2"
  },
  "language_info": {
   "codemirror_mode": {
    "name": "ipython",
    "version": 2
   },
   "file_extension": ".py",
   "mimetype": "text/x-python",
   "name": "python",
   "nbconvert_exporter": "python",
   "pygments_lexer": "ipython2",
   "version": "2.7.14+"
  }
 },
 "nbformat": 4,
 "nbformat_minor": 2
}
