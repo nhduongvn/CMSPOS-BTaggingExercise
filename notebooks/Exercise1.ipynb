{
 "cells": [
  {
   "cell_type": "markdown",
   "metadata": {},
   "source": [
    "# Exercise 1\n",
    "\n",
    "\n",
    "## Part I - accessing b-tagging discriminators\n",
    "\n",
    "First let's import some useful thigs. For this part we will use __FWLite__, the python bindings to the edm CMSSW classes"
   ]
  },
  {
   "cell_type": "code",
   "execution_count": 1,
   "metadata": {},
   "outputs": [
    {
     "name": "stdout",
     "output_type": "stream",
     "text": [
      "Welcome to JupyROOT 6.12/07\n"
     ]
    }
   ],
   "source": [
    "import ROOT\n",
    "import rootpy #hands down, a better version of PyROOT\n",
    "import rootpy.plotting as plt\n",
    "import pprint\n",
    "from DataFormats.FWLite import Events, Handle"
   ]
  },
  {
   "cell_type": "markdown",
   "metadata": {},
   "source": [
    "Then we load the input file"
   ]
  },
  {
   "cell_type": "code",
   "execution_count": 11,
   "metadata": {},
   "outputs": [],
   "source": [
    "events = Events(\n",
    "    'root://cmseos.fnal.gov//store/user/hats/2019/Tagging/TTToSemiLeptonic_RunIIAutumn18MiniAOD-102X_upgrade2018_realistic_v15/D7F68ED3-7D8A-0A4E-A53E-D5557F11760C.root'\n",
    ")\n",
    "#/store/mc/RunIIAutumn18MiniAOD/TTToSemiLeptonic_TuneCP5_13TeV-powheg-pythia8/MINIAODSIM/102X_upgrade2018_realistic_v15-v1/40000/D7F68ED3-7D8A-0A4E-A53E-D5557F11760C.root"
   ]
  },
  {
   "cell_type": "markdown",
   "metadata": {},
   "source": [
    "This is just a python trick to get the first event"
   ]
  },
  {
   "cell_type": "code",
   "execution_count": 12,
   "metadata": {},
   "outputs": [],
   "source": [
    "event = events.__iter__().next()"
   ]
  },
  {
   "cell_type": "markdown",
   "metadata": {},
   "source": [
    "Now, let's create a handle, like you would do in C++. If you use FWLite for your analysis, remember to create the handle __before your event loop!__ Creating a handle is quite slow in python, so better do it only once."
   ]
  },
  {
   "cell_type": "code",
   "execution_count": 13,
   "metadata": {},
   "outputs": [],
   "source": [
    "handle = Handle('vector<pat::Jet>')"
   ]
  },
  {
   "cell_type": "markdown",
   "metadata": {},
   "source": [
    "Now get the jet collection"
   ]
  },
  {
   "cell_type": "code",
   "execution_count": 14,
   "metadata": {},
   "outputs": [
    {
     "name": "stdout",
     "output_type": "stream",
     "text": [
      "<ROOT.vector<pat::Jet> object at 0x16bc8c90>\n"
     ]
    }
   ],
   "source": [
    "event.getByLabel('slimmedJets', handle)\n",
    "jets = handle.product()\n",
    "print jets"
   ]
  },
  {
   "cell_type": "markdown",
   "metadata": {},
   "source": [
    "Now that we have our vector of jets, we can check the first element and ask its methods.\n",
    "\n",
    "B-tagging outputs are called _discriminator_, so let's use python's reflection abilities to see what's inside the `pat::Jet` that we can use. Otherwise you can always use [doxygen](http://cmsdoxygen.web.cern.ch/cmsdoxygen/CMSSW_9_2_8/doc/html/d6/d00/classpat_1_1Jet.html)."
   ]
  },
  {
   "cell_type": "code",
   "execution_count": 15,
   "metadata": {},
   "outputs": [
    {
     "data": {
      "text/plain": [
       "['addBDiscriminatorPair', 'bDiscriminator', 'getPairDiscri']"
      ]
     },
     "execution_count": 15,
     "metadata": {},
     "output_type": "execute_result"
    }
   ],
   "source": [
    "[i for i in dir(jets[0]) if 'disc' in i.lower()]"
   ]
  },
  {
   "cell_type": "markdown",
   "metadata": {},
   "source": [
    "As you can see there are three methods that look interesting. One for adding the discriminators and two to get them, we will use the second one."
   ]
  },
  {
   "cell_type": "code",
   "execution_count": 16,
   "metadata": {},
   "outputs": [
    {
     "data": {
      "text/plain": [
       "<ROOT.vector<pair<string,float> > object at 0x1716f5d8>"
      ]
     },
     "execution_count": 16,
     "metadata": {},
     "output_type": "execute_result"
    }
   ],
   "source": [
    "jets[0].getPairDiscri()"
   ]
  },
  {
   "cell_type": "markdown",
   "metadata": {},
   "source": [
    "As you can see this returns a `std::vector` containing pairs of `std::string` and `float`, corresponding to the discriminator name and its respective value. Let's check all the discriminators available:"
   ]
  },
  {
   "cell_type": "code",
   "execution_count": 17,
   "metadata": {},
   "outputs": [
    {
     "data": {
      "text/plain": [
       "['pfJetBProbabilityBJetTags',\n",
       " 'pfJetProbabilityBJetTags',\n",
       " 'pfTrackCountingHighEffBJetTags',\n",
       " 'pfSimpleSecondaryVertexHighEffBJetTags',\n",
       " 'pfSimpleInclusiveSecondaryVertexHighEffBJetTags',\n",
       " 'pfCombinedSecondaryVertexV2BJetTags',\n",
       " 'pfCombinedInclusiveSecondaryVertexV2BJetTags',\n",
       " 'softPFMuonBJetTags',\n",
       " 'softPFElectronBJetTags',\n",
       " 'pfCombinedMVAV2BJetTags',\n",
       " 'pfCombinedCvsLJetTags',\n",
       " 'pfCombinedCvsBJetTags',\n",
       " 'pfDeepCSVJetTags:probb',\n",
       " 'pfDeepCSVJetTags:probc',\n",
       " 'pfDeepCSVJetTags:probudsg',\n",
       " 'pfDeepCSVJetTags:probbb',\n",
       " 'pfDeepCSVDiscriminatorsJetTags:BvsAll',\n",
       " 'pfDeepCSVDiscriminatorsJetTags:CvsB',\n",
       " 'pfDeepCSVDiscriminatorsJetTags:CvsL',\n",
       " 'pfDeepFlavourJetTags:probb',\n",
       " 'pfDeepFlavourJetTags:probc',\n",
       " 'pfDeepFlavourJetTags:probg',\n",
       " 'pfDeepFlavourJetTags:problepb',\n",
       " 'pfDeepFlavourJetTags:probbb',\n",
       " 'pfDeepFlavourJetTags:probuds']"
      ]
     },
     "execution_count": 17,
     "metadata": {},
     "output_type": "execute_result"
    }
   ],
   "source": [
    "[i.first for i in jets[0].getPairDiscri()]"
   ]
  },
  {
   "cell_type": "markdown",
   "metadata": {},
   "source": [
    "## Part II - A few comments on event loops\n",
    "\n",
    "Let's run a simple event loop counting the events:"
   ]
  },
  {
   "cell_type": "code",
   "execution_count": 18,
   "metadata": {},
   "outputs": [
    {
     "name": "stdout",
     "output_type": "stream",
     "text": [
      "80000\n"
     ]
    }
   ],
   "source": [
    "counter = 0\n",
    "for evt in events:\n",
    "    counter += 1\n",
    "print counter"
   ]
  },
  {
   "cell_type": "markdown",
   "metadata": {},
   "source": [
    "OK, pretty standard, right? Now, let's try to do it __again__"
   ]
  },
  {
   "cell_type": "code",
   "execution_count": 19,
   "metadata": {},
   "outputs": [
    {
     "name": "stdout",
     "output_type": "stream",
     "text": [
      "0\n"
     ]
    }
   ],
   "source": [
    "counter = 0\n",
    "for evt in events:\n",
    "    counter += 1\n",
    "print counter"
   ]
  },
  {
   "cell_type": "markdown",
   "metadata": {},
   "source": [
    "#### What happened?\n",
    "To save memory the `FWLite.Events` class behaves like a generator, hence once you loop over one entry, that entry is forgotten and you cannot re-run over it, unless you re-load the file completely. Keep that in mind when playing with it!\n",
    "\n",
    "Let's reload the file, you can always re-execute this cell how many times you need to reset this feature and run on the full set of events"
   ]
  },
  {
   "cell_type": "code",
   "execution_count": 20,
   "metadata": {},
   "outputs": [],
   "source": [
    "events = Events(\n",
    "    'root://cmseos.fnal.gov//store/user/hats/2019/Tagging/TTToSemiLeptonic_RunIIAutumn18MiniAOD-102X_upgrade2018_realistic_v15/D7F68ED3-7D8A-0A4E-A53E-D5557F11760C.root'\n",
    ")"
   ]
  },
  {
   "cell_type": "markdown",
   "metadata": {},
   "source": [
    "## Part III - plotting the b-tagging discriminator\n",
    "Now, let's plot few discriminator outputs for jets with $p_T > 20$ GeV and $|\\eta| < 2.4$"
   ]
  },
  {
   "cell_type": "code",
   "execution_count": 21,
   "metadata": {},
   "outputs": [],
   "source": [
    "histograms = {\n",
    "    'CSV' : plt.Hist(100,0,1.1),\n",
    "    'deepCSV' : plt.Hist(100,0,1.1),\n",
    "}"
   ]
  },
  {
   "cell_type": "code",
   "execution_count": 22,
   "metadata": {},
   "outputs": [],
   "source": [
    "####### YOUR CODE HERE! ######\n",
    "# To fill the histogram\n",
    "#histograms['CSV'].fill(...)\n",
    "#Remember, DeepCSV needs both 'pfDeepCSVJetTags:probb' + 'pfDeepCSVJetTags:probbb'\n",
    "counter = 0\n",
    "for evt in events:\n",
    "    counter += 1\n",
    "    if counter > 100000: continue\n",
    "    evt.getByLabel('slimmedJets', handle)\n",
    "    jets = handle.product()\n",
    "    for jet in jets:\n",
    "        if jet.pt() > 30 and abs(jet.eta()) < 2.4:\n",
    "            histograms['CSV'].fill(jet.bDiscriminator('pfCombinedInclusiveSecondaryVertexV2BJetTags'))\n",
    "            histograms['deepCSV'].fill(\n",
    "                jet.bDiscriminator('pfDeepCSVJetTags:probb') +\n",
    "                jet.bDiscriminator('pfDeepCSVJetTags:probbb') #DeepCSV requires the sum of both!\n",
    "             )\n",
    "            \n",
    "        "
   ]
  },
  {
   "cell_type": "markdown",
   "metadata": {},
   "source": [
    "Now, let's plot it! (some cosmetics first, though)"
   ]
  },
  {
   "cell_type": "code",
   "execution_count": 41,
   "metadata": {},
   "outputs": [
    {
     "data": {
      "image/png": "[encoded data removed]",
      "text/plain": [
       "<IPython.core.display.Image object>"
      ]
     },
     "metadata": {},
     "output_type": "display_data"
    }
   ],
   "source": [
    "histograms['CSV'].markercolor = 'blue'\n",
    "histograms['deepCSV'].markercolor = 'red'\n",
    "histograms['CSV'].xaxis.title = 'CSV/DeepCSV'\n",
    "histograms['CSV'].yaxis.title = 'Events'\n",
    "histograms['CSV'].yaxis.SetTitleOffset(2.2)\n",
    "canvas = plt.Canvas(600, 600)\n",
    "canvas.SetLeftMargin(0.2)\n",
    "histograms['CSV'].Draw(\"hist e\")\n",
    "histograms['CSV'].yaxis.SetRangeUser(0,50000)\n",
    "histograms['deepCSV'].Draw('same hist e')\n",
    "canvas.Draw() #You need this to display inline"
   ]
  },
  {
   "cell_type": "markdown",
   "metadata": {},
   "source": [
    "## Part IV - FatJet and sub-jet b-tagging\n",
    "\n",
    "Subjet b tagging is in many respects similar to the b tagging of the \"standard\" ak4 jets. However, there are some important differences to consider. Since subjets can get close to one another, using a fixed-size track association cone could lead to double-counting of tracks if they are associated to more than one subjet. To avoid such track sharing, the explicit jet-track association is used for subjets where tracks linked to the charged PF jet constituents are associated to the subjet. Similarly, a fixed-size association cone can lead to ambiguities in the secondary vertex and jet flavor assignment for subjets. This problem is resolved by ghost-associating secondary vertices and generator level hadrons/partons to subjets (see [here](https://twiki.cern.ch/twiki/bin/view/CMSPublic/SWGuideBTagMCTools) for more details). An important thing to keep in mind is that the ghost association, in addition to the subjet collection of, also requires collections of original and groomed fat jets to be present since the \"ghost\" constituents are first associated to fat jets and then to subjets of the groomed fat jets.\n",
    "\n",
    "A version of fat-jets and sub-jets are already stored in the `miniAOD` event content, clustered with the `AK8` algorithm (anti-$k_T$ with a 0.8 cone). \n",
    "  - How many discriminators you see available for the FatJet? Is there any difference from the the ones for AK4?\n",
    "  - Can you plot the `CSVv2` and `DeepCSV` discriminator output for the Fat-Jets and their sub-jets?\n",
    "      - __Pro:__ Using `hadronFlavour()` to get the different flavour identification (5: b jet, 4: c jet, 0: light) can you separate the components and plot them in a stacked histogram?\n",
    "\n",
    "__Hint:__ use [doxygen](http://cmsdoxygen.web.cern.ch/cmsdoxygen/CMSSW_9_2_8/doc/html/d6/d00/classpat_1_1Jet.html) and the interactive nature of python to test yout commands on a single event to test the commands before running the full event loop"
   ]
  },
  {
   "cell_type": "code",
   "execution_count": 29,
   "metadata": {},
   "outputs": [],
   "source": [
    "#\n",
    "# Your code here, this time it will take a while\n",
    "#\n",
    "events = Events(\n",
    "    'root://cmseos.fnal.gov//store/user/hats/2019/Tagging/TTToSemiLeptonic_RunIIAutumn18MiniAOD-102X_upgrade2018_realistic_v15/D7F68ED3-7D8A-0A4E-A53E-D5557F11760C.root'\n",
    ")\n",
    "event = events.__iter__().next()\n",
    "event.getByLabel('slimmedJetsAK8', handle)\n",
    "jets= handle.product()\n",
    "[i for i in dir(jets[0])]\n",
    "subJets = jets[0].subjets()\n",
    "\n",
    "counter = 0\n",
    "for evt in events:\n",
    "    counter += 1\n",
    "    if counter > 1000: continue\n",
    "    evt.getByLabel('slimmedJetsAK8', handle)\n",
    "    jets = handle.product()\n",
    "    for jet in jets:\n",
    "        if jet.pt() > 300 and abs(jet.eta()) < 2.4:\n",
    "            subJets = jet.subjets()"
   ]
  },
  {
   "cell_type": "code",
   "execution_count": null,
   "metadata": {
    "collapsed": true
   },
   "outputs": [],
   "source": []
  }
 ],
 "metadata": {
  "kernelspec": {
   "display_name": "Python 3",
   "language": "python",
   "name": "python3"
  },
  "language_info": {
   "codemirror_mode": {
    "name": "ipython",
    "version": 3
   },
   "file_extension": ".py",
   "mimetype": "text/x-python",
   "name": "python",
   "nbconvert_exporter": "python",
   "pygments_lexer": "ipython3",
   "version": "3.5.2"
  }
 },
 "nbformat": 4,
 "nbformat_minor": 2
}
